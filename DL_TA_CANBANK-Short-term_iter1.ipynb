{
  "nbformat": 4,
  "nbformat_minor": 0,
  "metadata": {
    "colab": {
      "provenance": []
    },
    "kernelspec": {
      "name": "python3",
      "display_name": "Python 3"
    },
    "language_info": {
      "name": "python"
    }
  },
  "cells": [
    {
      "cell_type": "markdown",
      "source": [
        "**STEP 0: SETUP**\n",
        "*   Setup the environment here.\n",
        "*   Install/Import libraries as needed.\n",
        "*   Mount drive(s)\n"
      ],
      "metadata": {
        "id": "2v8NVFC87JyR"
      }
    },
    {
      "cell_type": "code",
      "source": [
        "from google.colab import drive\n",
        "drive.mount('/content/drive')"
      ],
      "metadata": {
        "id": "JgWsIJUh7EQA"
      },
      "execution_count": null,
      "outputs": []
    },
    {
      "cell_type": "code",
      "source": [
        "from __future__ import absolute_import, division, print_function\n",
        "import pathlib\n",
        "import seaborn as sns\n",
        "import tensorflow as tf\n",
        "from tensorflow import keras\n",
        "from tensorflow.keras import layers\n",
        "import numpy as np\n",
        "import pandas as pd\n",
        "import matplotlib as plt\n",
        "from matplotlib import pyplot  as plt\n",
        "from google.colab import files\n",
        "print(tf.__version__)"
      ],
      "metadata": {
        "id": "JNojNCE_LyYh",
        "colab": {
          "base_uri": "https://localhost:8080/"
        },
        "outputId": "e12b062c-8e64-4bcd-caf5-f43f614a6098"
      },
      "execution_count": null,
      "outputs": [
        {
          "output_type": "stream",
          "name": "stdout",
          "text": [
            "2.15.0\n"
          ]
        }
      ]
    },
    {
      "cell_type": "code",
      "source": [
        "#!pip install torch"
      ],
      "metadata": {
        "id": "y90tPiTDTSrm"
      },
      "execution_count": null,
      "outputs": []
    },
    {
      "cell_type": "code",
      "source": [
        "import yfinance as yf"
      ],
      "metadata": {
        "id": "YcK-f2CbSx03"
      },
      "execution_count": null,
      "outputs": []
    },
    {
      "cell_type": "code",
      "source": [
        "!pip install pandas-ta\n",
        "import pandas_ta as pta"
      ],
      "metadata": {
        "id": "H4OmR5oGL6HH"
      },
      "execution_count": null,
      "outputs": []
    },
    {
      "cell_type": "code",
      "source": [
        "!pip install ta\n",
        "import ta\n",
        "from ta.momentum import RSIIndicator\n",
        "from ta.momentum import StochasticOscillator\n",
        "from ta.trend import ADXIndicator\n",
        "from ta.volatility import BollingerBands\n",
        "from ta.volatility import AverageTrueRange"
      ],
      "metadata": {
        "id": "aK3xsJTteF1W"
      },
      "execution_count": null,
      "outputs": []
    },
    {
      "cell_type": "code",
      "source": [
        "import warnings\n",
        "warnings.filterwarnings('ignore')\n"
      ],
      "metadata": {
        "id": "0vdYp3mTa_o0"
      },
      "execution_count": null,
      "outputs": []
    },
    {
      "cell_type": "code",
      "source": [
        "#df = {'Open': 1445.700012, 'High':1456.500000,'Low':1426.549988, 'Close' : 1427.000012,\t'Adj Close':1427.700012,'Volume':\t20872940}\n",
        "#data = data._append(pd.DataFrame(df, index=['2024-05-09 00:00:00']))"
      ],
      "metadata": {
        "id": "n00X7w6POo9N"
      },
      "execution_count": null,
      "outputs": []
    },
    {
      "cell_type": "markdown",
      "source": [
        "**STEP 1: PREPROCESSING**\n",
        "*   Fetch Data and process it to derive more data\n",
        "*   Cleanup the data to make it ready for the next step\n"
      ],
      "metadata": {
        "id": "0XMYBaO-7036"
      }
    },
    {
      "cell_type": "code",
      "source": [
        "tkr = 'CANBK.NS'\n",
        "data = yf.download(tkr, start='2019-01-01', end='2024-12-31')\n",
        "#data = yf.download(tkr, start='2023-01-01', end='2023-07-20')\n",
        "data"
      ],
      "metadata": {
        "id": "lu3pPFnqO3C3"
      },
      "execution_count": null,
      "outputs": []
    },
    {
      "cell_type": "code",
      "source": [
        "psar_obj = ta.trend.PSARIndicator(data['High'],data['Low'],data['Close'], fillna=True)\n",
        "df = psar_obj.psar()\n",
        "df1 = psar_obj.psar_up()\n",
        "df2 = psar_obj.psar_down()\n",
        "df.rename('ta-psar', inplace=True)\n",
        "df1.rename('ta-psar-up', inplace=True)\n",
        "df2.rename('ta-psar-dn', inplace=True)\n",
        "data = pd.concat([data, df, df1, df2], axis=1)\n",
        "#data[['ta-psar', 'ta-psar-up', 'ta-psar-dn']]"
      ],
      "metadata": {
        "id": "6tTggd1ppaVE"
      },
      "execution_count": null,
      "outputs": []
    },
    {
      "cell_type": "code",
      "source": [
        "#MACD uisng TA Pkg\n",
        "macd_obj = ta.trend.MACD(data['Adj Close'])\n",
        "data['ta-macd'] = macd_obj.macd()\n",
        "data['ta-macd-sig'] = macd_obj.macd_signal()\n",
        "data['ta-macd-sig-%'] = data['ta-macd']/data['ta-macd-sig']\n",
        "#Histogram or diff is same\n",
        "data['ta-macd-hgram'] = macd_obj.macd_diff()\n",
        "\n",
        "#STC OSCILLATOR using PANDAS TA pkg\n",
        "df = pta.stc(data['Adj Close'], fillna=False)\n",
        "df.rename(columns={'STC_10_12_26_0.5':'pta-stc','STCmacd_10_12_26_0.5':'pta-stc-macd','STCstoch_10_12_26_0.5':'pta-stc-stoch' }, inplace=True)\n",
        "data = pd.concat([data, df], axis=1)\n",
        "data['pta-stc%-25'] = data['pta-stc']/25\n",
        "data['pta-stc-stoch%-20'] = data['pta-stc-stoch']/20\n",
        "#data\n"
      ],
      "metadata": {
        "id": "VjqoE86seiZN"
      },
      "execution_count": null,
      "outputs": []
    },
    {
      "cell_type": "code",
      "source": [
        "#Calculate 'Up from 52 wk low' and 'down from 52 wk high'\n",
        "def updn_52wk(df):\n",
        "  max52 = df['Adj Close'].rolling(window=260).max().shift(1)\n",
        "  min52 = df['Adj Close'].rolling(window=260).min().shift(1)\n",
        "  dn = 1 - (df['Adj Close']/max52)\n",
        "  up = (df['Adj Close']/min52) - 1\n",
        "  return dn, up\n",
        "\n",
        "data['dn52wk'], data['up52wk'] = updn_52wk(data)\n",
        "#data"
      ],
      "metadata": {
        "id": "Fp0wSKq0A7Dx"
      },
      "execution_count": null,
      "outputs": []
    },
    {
      "cell_type": "code",
      "source": [
        "#RSI using Pandas TA package\n",
        "df1 = pta.rsi(data['Adj Close'])\n",
        "df1.rename('pta-rsi', inplace=True)\n",
        "data = pd.concat([data, df1], axis=1)\n",
        "data['pta-rsi%-25'] = data['pta-rsi']/25.0\n",
        "\n",
        "#Stoch indicator using Pandas TA pkg\n",
        "df = pta.stoch(data['High'],data['Low'],data['Close'])\n",
        "df.rename(columns={'STOCHk_14_3_3':'pta-stochk','STOCHd_14_3_3':'pta-stochd'}, inplace=True)\n",
        "data = pd.concat([data, df], axis=1)\n",
        "data['pta-stochk%-20'] = data['pta-stochk']/20\n",
        "data['pta-stochd%-20'] = data['pta-stochd']/20\n",
        "#Stochastic Oscillator using TA pkg\n",
        "stoch = StochasticOscillator(data['High'],data['Low'],data['Close'])\n",
        "data['ta-stoch'] = stoch.stoch()\n",
        "data['ta-stoch%-20'] = data['ta-stoch']/20\n",
        "\n",
        "#AROON using Pandas TA pkg\n",
        "df = pta.aroon(data['High'],data['Low'], length=25, talib=False, scalar = 1)\n",
        "df.rename(columns={'AROOND_25':'pta-aroond','AROONU_25':'pta-aroonu','AROONOSC_25':'pta-aroon-osc'}, inplace=True)\n",
        "data = pd.concat([data, df], axis=1)"
      ],
      "metadata": {
        "id": "yFh7e9S_RrIw"
      },
      "execution_count": null,
      "outputs": []
    },
    {
      "cell_type": "code",
      "source": [
        "data"
      ],
      "metadata": {
        "id": "HbrAftSzODdi"
      },
      "execution_count": null,
      "outputs": []
    },
    {
      "cell_type": "code",
      "source": [
        "# PTA Supertrend calculator\n",
        "df = pta.supertrend(data['High'],data['Low'],data['Close'])\n",
        "df.rename(columns={'SUPERT_7_3.0':'pta-supertrend','SUPERTd_7_3.0':'pta-supertrend-dir','SUPERTl_7_3.0':'pta-supertrend-l', 'SUPERTs_7_3.0':'pta-supertrend-s'}, inplace=True)\n",
        "df = df.drop(['pta-supertrend-l','pta-supertrend-s'], axis=1)\n",
        "data = pd.concat([data, df], axis=1)"
      ],
      "metadata": {
        "id": "t532KcWw7B5a"
      },
      "execution_count": null,
      "outputs": []
    },
    {
      "cell_type": "code",
      "source": [
        "data"
      ],
      "metadata": {
        "id": "CpxDywq1PLyt"
      },
      "execution_count": null,
      "outputs": []
    },
    {
      "cell_type": "code",
      "source": [
        "#ADX using Pandas TA pkg\n",
        "df = pta.adx(data['High'],data['Low'],data['Close'])\n",
        "df.rename(columns={'ADX_14':'pta-adx','DMP_14':'pta-adx-dmp','DMN_14':'pta-adx-dmn'}, inplace=True)\n",
        "data = pd.concat([data, df], axis=1)\n",
        "\n",
        "data['pta-adx%-25'] = data['pta-adx']/25\n",
        "data['pta-adx-pn%'] = data['pta-adx-dmp']/data['pta-adx-dmn']\n",
        "\n",
        "#ATR using Pandas TA pkg\n",
        "df1 = pta.atr(data['High'],data['Low'],data['Close'])\n",
        "df1.rename('pta-atr', inplace=True)\n",
        "data = pd.concat([data, df1], axis=1)\n",
        "data['pta-atr%'] = data['pta-atr']/data['Adj Close']"
      ],
      "metadata": {
        "id": "fQK6x1M1ZJvV"
      },
      "execution_count": null,
      "outputs": []
    },
    {
      "cell_type": "code",
      "source": [
        "data"
      ],
      "metadata": {
        "id": "qHmBlIczOH8-"
      },
      "execution_count": null,
      "outputs": []
    },
    {
      "cell_type": "code",
      "source": [
        "# Bollinger Bands using TA pkg\n",
        "bollinger = BollingerBands(data['Adj Close'])\n",
        "data['ta-boll-mva'] = bollinger.bollinger_mavg()\n",
        "data['ta-boll-hband'] = bollinger.bollinger_hband()\n",
        "data['ta-boll-lband'] = bollinger.bollinger_lband()\n",
        "data['ta-boll-hb-ind'] = bollinger.bollinger_hband_indicator()\n",
        "data['ta-boll-lb-ind'] = bollinger.bollinger_lband_indicator()\n",
        "data['ta-boll-mva%'] = data['Adj Close']/data['ta-boll-mva']\n",
        "data['ta-boll-hb%'] = data['Adj Close']/data['ta-boll-hband']\n",
        "data['ta-boll-lb%'] = data['Adj Close']/data['ta-boll-lband']\n",
        "\n",
        "#On Balance Vol\n",
        "from ta.volume import OnBalanceVolumeIndicator\n",
        "obv = OnBalanceVolumeIndicator(data['Adj Close'], data['Volume'])\n",
        "data['ta-obv'] = obv.on_balance_volume()\n",
        "data['ta-obv%'] = data['ta-obv']/data['ta-obv'].shift()\n",
        "\n",
        "#VWAP Indicator from Pandas TA pkg\n",
        "df = pta.vwap(data['High'],data['Low'],data['Close'], data['Volume'])\n",
        "df1.rename('pta-vwap', inplace=True)\n",
        "data = pd.concat([data, df1], axis=1)\n",
        "data['pta-vwap%'] = data['Adj Close']/data['pta-vwap']"
      ],
      "metadata": {
        "id": "fAA3WdHycK7C"
      },
      "execution_count": null,
      "outputs": []
    },
    {
      "cell_type": "code",
      "source": [
        "data['sma10'] = data['Adj Close'].rolling(10).mean()\n",
        "data['sma30'] = data['Adj Close'].rolling(30).mean()\n",
        "data['sma50'] = data['Adj Close'].rolling(50).mean()\n",
        "data['sma200'] = data['Adj Close'].rolling(200).mean()\n",
        "data['ema20'] = data['Adj Close'].ewm(span=20).mean()\n",
        "data['ema200'] = data['Adj Close'].ewm(span=200).mean()\n",
        "\n",
        "data['sma10%'] =  data['Adj Close']/data['sma10']\n",
        "data['sma30%'] =  data['Adj Close']/data['sma30']\n",
        "data['sma50%'] =  data['Adj Close']/data['sma50']\n",
        "data['sma200%'] =  data['Adj Close']/data['sma200']\n",
        "data['ema20%'] =  data['Adj Close']/data['ema20']\n",
        "data['ema200%'] =  data['Adj Close']/data['ema200']"
      ],
      "metadata": {
        "id": "3u8LV6sCK1Eb"
      },
      "execution_count": null,
      "outputs": []
    },
    {
      "cell_type": "code",
      "source": [
        "plt.subplot(5,1,1)\n",
        "plt.plot(data['ta-macd'])\n",
        "plt.plot(data['ta-macd-sig'])\n",
        "#plt.plot(data['ta-momentum'])\n",
        "plt.plot(data['ta-macd-hgram'], color='grey', alpha = 0.5)\n",
        "\n",
        "plt.subplot(5,1,2)\n",
        "plt.plot(data['pta-rsi'], color='g')\n",
        "plt.plot(data['ta-stoch'], color='b')\n",
        "plt.plot(data['pta-stochk'], color='r')\n",
        "#plt.plot(data['pta-stochd'], color='r')\n",
        "\n",
        "plt.subplot(5,1,3)\n",
        "plt.plot(data['pta-adx'], color='grey')\n",
        "plt.plot(data['pta-adx-dmp'], color='b')\n",
        "plt.plot(data['pta-adx-dmn'], color='r')\n",
        "plt.plot(data['pta-atr'], color='y')\n",
        "\n",
        "plt. subplot(5,1,4)\n",
        "plt.plot(data['Adj Close'])\n",
        "plt.plot(data['sma10'], color='grey')\n",
        "plt.plot(data['sma30'], color='g')\n",
        "#plt.plot(data['sma100'], color='r')\n",
        "#plt.plot(data['ta-sma200'], color='y')\n",
        "\n",
        "plt.subplot(5,1,5)\n",
        "#plt.plot(data['ta-adi'], color='r')\n",
        "plt.plot(data['ta-obv'], color='b')\n",
        "\n",
        "data[['ta-boll-lband', 'ta-boll-mva', 'Adj Close', 'ta-boll-hband']].plot(style=['k--', 'c-', 'm-', 'k--'])\n",
        "plt.plot(data[data['ta-boll-lb-ind']==1]['Adj Close'], '^g')\n",
        "plt.plot(data[data['ta-boll-hb-ind']==1]['Adj Close'], 'vr')\n",
        "#plt.title('Bollinger Bands Entries')\n",
        "\n"
      ],
      "metadata": {
        "id": "L7VT4icgYItA"
      },
      "execution_count": null,
      "outputs": []
    },
    {
      "cell_type": "code",
      "source": [
        "data['Bullish_Run_Start'] = (data['ta-macd'] > data['ta-macd-sig']) & (data['ta-macd'].shift(1) <= data['ta-macd-sig'].shift(1))\n",
        "data['Bearish_Run_Start'] = (data['ta-macd'] < data['ta-macd-sig']) & (data['ta-macd'].shift(1) >= data['ta-macd-sig'].shift(1))"
      ],
      "metadata": {
        "id": "hqi7hVLfjIrx"
      },
      "execution_count": null,
      "outputs": []
    },
    {
      "cell_type": "code",
      "source": [
        "# Plot\n",
        "plt.figure(figsize=(14, 10))\n",
        "\n",
        "#Plot Close Price\n",
        "plt.subplot(2, 1, 1)\n",
        "plt.plot(data['sma10'], color = 'g')\n",
        "plt.plot(data['sma30'], color = 'b')\n",
        "plt.plot(data['Adj Close'], label='Adj Close Price')\n",
        "plt.scatter(data.index[data['Bullish_Run_Start']], data['Adj Close'][data['Bullish_Run_Start']], marker='^', color='g', label='Start Bullish Run')\n",
        "plt.scatter(data.index[data['Bearish_Run_Start']], data['Adj Close'][data['Bearish_Run_Start']], marker='v', color='r', label='Start Bearish Run')\n",
        "plt.title(tkr + ' Stock Price and MACD')\n",
        "plt.legend()\n",
        "\n",
        "\n",
        "# Identify bullish and bearish crossover points\n",
        "data['Bullish_Crossover'] = (data['ta-macd'] > data['ta-macd-sig']) & (data['ta-macd'].shift(1) <= data['ta-macd-sig'].shift(1))\n",
        "data['Bearish_Crossover'] = (data['ta-macd'] < data['ta-macd-sig']) & (data['ta-macd'].shift(1) >= data['ta-macd-sig'].shift(1))\n",
        "\n",
        "# Plot\n",
        "plt.figure(figsize=(14, 10))\n",
        "\n",
        "# Plot MACD\n",
        "plt.subplot(2, 1, 2)\n",
        "plt.plot(data['ta-macd'], label='MACD Line', color='blue', alpha=0.5)\n",
        "plt.plot(data['ta-macd-sig'], label='Signal Line', color='red', alpha=0.5)\n",
        "plt.bar(data.index, data['ta-macd-hgram'], label='Histogram', color='grey', alpha=0.5)\n",
        "\n",
        "# Markers for bullish and bearish crossover\n",
        "plt.scatter(data.index[data['Bullish_Crossover']], data['ta-macd'][data['Bullish_Crossover']], marker='^', color='g', label='Bullish Crossover')\n",
        "plt.scatter(data.index[data['Bearish_Crossover']], data['ta-macd'][data['Bearish_Crossover']], marker='v', color='r', label='Bearish Crossover')\n",
        "plt.plot(data['pta-rsi'], color='k')\n",
        "plt.legend()\n",
        "plt.show()\n",
        "\n",
        "#plt.subplot(3,1,2)\n",
        "#plt.plot(biocon['ta-macd'])\n",
        "#plt.plot(biocon['ta-macd-sig'])\n",
        "#plt.plot(biocon['ta-macd-diff'], color='grey', alpha = 0.5)\n",
        "#plt. subplot(3,1,3)\n",
        "#plt.plot(biocon['ta-rsi'], color='g')\n"
      ],
      "metadata": {
        "id": "y91WjBjJjxCg"
      },
      "execution_count": null,
      "outputs": []
    },
    {
      "cell_type": "code",
      "source": [
        "dta_copy = data.copy()\n",
        "#data.dropna(inplace=True)"
      ],
      "metadata": {
        "id": "C5RzNTkKLxNW"
      },
      "execution_count": null,
      "outputs": []
    },
    {
      "cell_type": "code",
      "source": [
        "#data = dta_copy.copy()\n",
        "#data"
      ],
      "metadata": {
        "id": "pYa2YFHZNZjk"
      },
      "execution_count": null,
      "outputs": []
    },
    {
      "cell_type": "code",
      "source": [
        "data.describe()"
      ],
      "metadata": {
        "id": "p2E0lPLWCmxr"
      },
      "execution_count": null,
      "outputs": []
    },
    {
      "cell_type": "code",
      "source": [
        "\n",
        "data = data.drop(['ta-macd', 'ta-macd-sig', 'pta-stc', 'pta-stc-stoch'], axis = 1)\n",
        "data = data.drop(['pta-rsi', 'ta-stoch','pta-stochk', 'pta-stochd'], axis = 1)\n",
        "data = data.drop(['pta-adx-dmn', 'pta-adx','pta-adx-dmp', 'pta-atr'], axis = 1)\n",
        "data = data.drop(['ta-boll-mva', 'ta-boll-hband','ta-boll-lband','ta-obv', 'pta-vwap'], axis = 1)\n",
        "data = data.drop(['sma10', 'sma30','sma50','sma200', 'ema20','ema200', 'sma200%'], axis = 1)\n",
        "data = data.drop(['Open', 'Close', 'High', 'Low','Bullish_Run_Start', 'Bearish_Run_Start', 'Bullish_Crossover', 'Bearish_Crossover'], axis = 1)\n",
        "#data.dropna(inplace=True)\n",
        "#data"
      ],
      "metadata": {
        "id": "ClVleWfckcN4"
      },
      "execution_count": null,
      "outputs": []
    },
    {
      "cell_type": "code",
      "source": [
        "data = data.drop(['Volume', 'ta-psar-up', 'ta-psar-dn', 'pta-stc-macd','pta-supertrend', 'pta-supertrend-dir', 'ta-boll-hb-ind', 'ta-boll-lb-ind'], axis = 1)\n"
      ],
      "metadata": {
        "id": "7sPyLEPgDDgK"
      },
      "execution_count": null,
      "outputs": []
    },
    {
      "cell_type": "code",
      "source": [
        "data = data.drop(['ta-boll-mva%', 'ta-boll-hb%','ta-boll-lb%','ta-obv%', 'pta-vwap%'], axis = 1)"
      ],
      "metadata": {
        "id": "D5kdFAH9Dyc0"
      },
      "execution_count": null,
      "outputs": []
    },
    {
      "cell_type": "code",
      "source": [
        "#data.dropna(inplace=True)\n",
        "data.dtypes"
      ],
      "metadata": {
        "id": "VKnhv_NzQYKf"
      },
      "execution_count": null,
      "outputs": []
    },
    {
      "cell_type": "code",
      "source": [
        "#function to create the output for ANN\n",
        "def get_output(df, period=7):\n",
        "  df['ret'] = df['Adj Close'].rolling(period).max().shift(-1*(period))\n",
        "  #print(df)\n",
        "  #df.dropna(inplace=True)\n",
        "  df['ret%'] = df['ret'].sub(df['Adj Close']).div(df['Adj Close']).mul(100)\n",
        "  df = df.drop('ret', axis=1)\n",
        "  #df['ret%'] = df['ret%'].rolling(period).mean()\n",
        "  return df\n",
        "\n",
        "data = get_output(data, period=7)\n",
        "data.dropna(inplace=True)"
      ],
      "metadata": {
        "id": "werxdJa_CPQG"
      },
      "execution_count": null,
      "outputs": []
    },
    {
      "cell_type": "code",
      "source": [
        "plt.plot(data['ret%'])"
      ],
      "metadata": {
        "id": "fflFMCvtW0TE"
      },
      "execution_count": null,
      "outputs": []
    },
    {
      "cell_type": "code",
      "source": [
        "data"
      ],
      "metadata": {
        "id": "sipaRbQGEPK-"
      },
      "execution_count": null,
      "outputs": []
    },
    {
      "cell_type": "markdown",
      "source": [
        "**STEP 2: TRAINING ANN**"
      ],
      "metadata": {
        "id": "ZIFz7hsx9xy2"
      }
    },
    {
      "cell_type": "code",
      "source": [
        "#Create a data copy to work during training and analysis\n",
        "dta = data.copy()"
      ],
      "metadata": {
        "id": "l4r8P8LBNA8E"
      },
      "execution_count": null,
      "outputs": []
    },
    {
      "cell_type": "code",
      "source": [
        "#data = dta.copy()\n",
        "#data"
      ],
      "metadata": {
        "id": "MtaTHwgMTjq3"
      },
      "execution_count": null,
      "outputs": []
    },
    {
      "cell_type": "code",
      "source": [
        "#pct_ret = data.pop('ret%')\n",
        "#pct_ret"
      ],
      "metadata": {
        "id": "-AUxjIWJTrRY"
      },
      "execution_count": null,
      "outputs": []
    },
    {
      "cell_type": "code",
      "source": [],
      "metadata": {
        "id": "TLC_YA3fT2sV"
      },
      "execution_count": null,
      "outputs": []
    },
    {
      "cell_type": "code",
      "source": [
        "#scaling\n",
        "from sklearn.preprocessing import StandardScaler\n",
        "scaler = StandardScaler()\n",
        "data_scaled = scaler.fit_transform(data)\n",
        "#MinMaxScaler()\n",
        "#price_scaled = scaler.transform(price)\n",
        "#val_scaled = scaler.transform(val_set)\n",
        "#test_scaled = scaler.transform(test_set)\n",
        "data_scaled"
      ],
      "metadata": {
        "id": "CpZHIUYV-Lld"
      },
      "execution_count": null,
      "outputs": []
    },
    {
      "cell_type": "markdown",
      "source": [
        "**STEP 3: ANALYSIS**"
      ],
      "metadata": {
        "id": "5Cz6bDiH9qGl"
      }
    },
    {
      "cell_type": "code",
      "source": [
        "label = data_scaled[:,-1]\n",
        "data_scaled = np.delete(data_scaled, -1,1)\n",
        "label"
      ],
      "metadata": {
        "id": "UHDDiUdw9mKE"
      },
      "execution_count": null,
      "outputs": []
    },
    {
      "cell_type": "code",
      "source": [
        "plt.plot(label)\n",
        "#plt.plt(data_scaled[0])"
      ],
      "metadata": {
        "id": "lCJOO_jycYmt"
      },
      "execution_count": null,
      "outputs": []
    },
    {
      "cell_type": "code",
      "source": [
        "df = pd.DataFrame({'label':label})\n",
        "global WINDOW_SIZE\n",
        "WINDOW_SIZE = 50\n",
        "y = df.shift(-1*(WINDOW_SIZE)).dropna().to_numpy()\n",
        "y = y.flatten()"
      ],
      "metadata": {
        "id": "U1GhsGBrdAgA"
      },
      "execution_count": null,
      "outputs": []
    },
    {
      "cell_type": "code",
      "source": [
        "def input_shape(df, window_size=50):\n",
        "  #arr = df.to_numpy()\n",
        "  #arr = df.flatten()\n",
        "  arr = df\n",
        "  X = []\n",
        "  #y = []\n",
        "  for i in range(len(arr) - window_size):\n",
        "    row = [r for r in arr[i:i+window_size]]\n",
        "    X.append(row)\n",
        "    #label = arr[i+window_size][-3]\n",
        "    #y.append(label)\n",
        "  return np.array(X) #, np.array(y)\n",
        "\n",
        "#WINDOW_SIZE = 50\n",
        "X = input_shape(data_scaled, WINDOW_SIZE)\n",
        "#X,y = input_shape(price, WINDOW_SIZE)\n",
        "#y = label\n",
        "X.shape, y.shape"
      ],
      "metadata": {
        "colab": {
          "base_uri": "https://localhost:8080/"
        },
        "id": "V5FUKgcGgDok",
        "outputId": "cb0ac6bf-3ddb-4d24-d1fd-525c38dd932a"
      },
      "execution_count": null,
      "outputs": [
        {
          "output_type": "execute_result",
          "data": {
            "text/plain": [
              "((1006, 50, 23), (1006,))"
            ]
          },
          "metadata": {},
          "execution_count": 201
        }
      ]
    },
    {
      "cell_type": "code",
      "source": [
        "#length = np.floor(X.shape[0]*(0.95))\n",
        "#length *= 0.9\n",
        "#X_split = np.array_split(X, length)\n",
        "#y_split = np.array_split(y, length)\n",
        "X_train, y_train = X[:900], y[:900]\n",
        "#X_val, y_val = X[800:900], y[800:900]\n",
        "X_test, y_test = X[900:], y[900:]\n",
        "X_train.shape, y_train.shape, X_test.shape, y_test.shape #, X_val.shape, y_val.shape"
      ],
      "metadata": {
        "colab": {
          "base_uri": "https://localhost:8080/"
        },
        "id": "wp3qgmGFgDaR",
        "outputId": "b21f3aee-5ba0-4b72-f0b1-3e833946327c"
      },
      "execution_count": null,
      "outputs": [
        {
          "output_type": "execute_result",
          "data": {
            "text/plain": [
              "((900, 50, 23), (900,), (106, 50, 23), (106,))"
            ]
          },
          "metadata": {},
          "execution_count": 211
        }
      ]
    },
    {
      "cell_type": "code",
      "source": [
        "def plot_predictions(model, X, y, start=0, end=100):\n",
        "  #predictions = model.predict(X).flatten()\n",
        "  predictions = model.predict(X)\n",
        "  #predictions = scaler.inverse_transform(predictions)\n",
        "  #y = scaler.inverse_transform(y.reshape(-1,1))\n",
        "  #df = pd.DataFrame(data={\"Predictions\":predictions, \"Actuals\":y})\n",
        "  plt.plot(predictions[start:end], color='red')\n",
        "  plt.plot(y[start:end], color = 'green')\n",
        "  return predictions, y\n",
        "  #return predictions, y, mse(y,predictions), mae(y, predictions)"
      ],
      "metadata": {
        "id": "7m2C5U88gDI7"
      },
      "execution_count": null,
      "outputs": []
    },
    {
      "cell_type": "code",
      "source": [
        "from keras import Sequential\n",
        "from keras.layers import Dense\n",
        "from keras.layers import LSTM\n",
        "from keras.layers import GRU\n",
        "input = X_train.shape[1]\n",
        "features = X_train.shape[2]\n",
        "model = Sequential()\n",
        "#model.add(LSTM(64, activation='relu', return_sequences=True, input_shape=(input, features)))\n",
        "#model.add(LSTM(64, activation='relu'))\n",
        "model.add(GRU(64, activation='relu', return_sequences=True, input_shape=(input, features)))\n",
        "model.add(GRU(64, activation='relu'))\n",
        "model.add(Dense(32, activation='relu'))\n",
        "model.add(Dense(16, activation='relu'))\n",
        "model.add(Dense(8, activation='relu'))\n",
        "model.add(Dense(1))\n",
        "#model.compile(optimizer='adam', loss='mse')"
      ],
      "metadata": {
        "id": "DlvAxzwXg6MF"
      },
      "execution_count": null,
      "outputs": []
    },
    {
      "cell_type": "code",
      "source": [
        "from keras.callbacks import ModelCheckpoint\n",
        "early_stop = keras.callbacks.EarlyStopping(monitor='mse', patience=10)\n",
        "model.summary()\n",
        "\n",
        "cp = ModelCheckpoint('model1/', monitor='mse', save_best_only=True, mode='max')\n",
        "\n",
        "opt = tf.keras.optimizers.Adam(.005)\n",
        "model.compile(loss='mse',\n",
        "                optimizer=opt, metrics=['mae', 'mse'])"
      ],
      "metadata": {
        "id": "jYZFA7duhK-8"
      },
      "execution_count": null,
      "outputs": []
    },
    {
      "cell_type": "code",
      "source": [
        "class DotPrint(keras.callbacks.Callback):\n",
        "  def on_epoch_end(self, epoch, logs):\n",
        "    if epoch % 100 == 0: print(\" \")\n",
        "    print('.',end='')\n",
        "\n",
        "EPOCHS = 50\n",
        "history = model.fit(X_train, y_train, epochs=EPOCHS, callbacks=[early_stop, cp])\n",
        "#history = model.fit(X_train, y_train, epochs=EPOCHS, validation_data=(X_val, y_val), verbose = 0, callbacks=[DotPrint()])"
      ],
      "metadata": {
        "id": "BSvI-X7IhXw3"
      },
      "execution_count": null,
      "outputs": []
    },
    {
      "cell_type": "code",
      "source": [
        "hist = pd.DataFrame(history.history)\n",
        "hist['epoch'] = history.epoch\n",
        "hist.tail()"
      ],
      "metadata": {
        "id": "dDY2kz7khaGe"
      },
      "execution_count": null,
      "outputs": []
    },
    {
      "cell_type": "code",
      "source": [
        "import matplotlib.pyplot as plt\n",
        "def plot_history(history):\n",
        "  hist = pd.DataFrame(history.history)\n",
        "  hist['epoch'] = history.epoch\n",
        "\n",
        "  plt.figure()\n",
        "  plt.xlabel('Epoch')\n",
        "  plt.ylabel('MAE(rets)')\n",
        "  plt.plot(hist['epoch'], hist['mae'], label=\"Train Error\")\n",
        "  #plt.plot(hist['epoch'], hist['val_mae'], label=\"Validation Error\")\n",
        "  plt.legend()\n",
        "  plt.ylim([0,5])\n",
        "\n",
        "  plt.figure()\n",
        "  plt.xlabel('Epoch')\n",
        "  plt.ylabel('MSE($rets^2$)')\n",
        "  plt.plot(hist['epoch'], hist['mse'], label=\"Train Error\")\n",
        "  #plt.plot(hist['epoch'], hist['val_mse'], label=\"Validation Error\")\n",
        "  plt.legend()\n",
        "  plt.ylim([0,40])\n",
        "\n",
        "plot_history(history)"
      ],
      "metadata": {
        "id": "EH9fqc2Cg0e5"
      },
      "execution_count": null,
      "outputs": []
    },
    {
      "cell_type": "code",
      "source": [
        "pred, label = plot_predictions(model, X_train, y_train)\n",
        "#predictions = model.predict(X_train)\n",
        "from sklearn.metrics import mean_squared_error as mse\n",
        "from sklearn.metrics import mean_absolute_error as mae\n",
        "mserror = mse(label, pred)\n",
        "maerror = mae(label, pred)\n",
        "mserror, maerror\n",
        "predict = pd.DataFrame({'pred': pred.flatten()})\n",
        "lbl = pd.DataFrame({'label': label.flatten()})\n",
        "#df = predict#pred = pd.DataFrame({'pred': pred.flatten()})\n",
        "df = lbl.join(predict)"
      ],
      "metadata": {
        "colab": {
          "base_uri": "https://localhost:8080/",
          "height": 448
        },
        "id": "7skXCRrUhwAp",
        "outputId": "bc7e87e0-7871-4628-8306-37e3ae56d9f3"
      },
      "execution_count": null,
      "outputs": [
        {
          "output_type": "stream",
          "name": "stdout",
          "text": [
            "25/25 [==============================] - 1s 14ms/step\n"
          ]
        },
        {
          "output_type": "display_data",
          "data": {
            "text/plain": [
              "<Figure size 640x480 with 1 Axes>"
            ],
            "image/png": "[encoded data removed]"
          },
          "metadata": {}
        }
      ]
    },
    {
      "cell_type": "code",
      "source": [
        "maerror, mserror"
      ],
      "metadata": {
        "colab": {
          "base_uri": "https://localhost:8080/"
        },
        "id": "1H4EP1WXiYfx",
        "outputId": "646ed291-448a-47af-9553-fdfb4e0582a2"
      },
      "execution_count": null,
      "outputs": [
        {
          "output_type": "execute_result",
          "data": {
            "text/plain": [
              "(0.18836766864718377, 0.06411961826359107)"
            ]
          },
          "metadata": {},
          "execution_count": 209
        }
      ]
    },
    {
      "cell_type": "code",
      "source": [
        "df"
      ],
      "metadata": {
        "id": "JGWkZa3kivdT"
      },
      "execution_count": null,
      "outputs": []
    },
    {
      "cell_type": "code",
      "source": [
        "pred_test, label_test = plot_predictions(model, X_test, y_test)\n",
        "#predictions = model.predict(X_train)\n",
        "from sklearn.metrics import mean_squared_error as mse\n",
        "from sklearn.metrics import mean_absolute_error as mae\n",
        "mserror = mse(label_test, pred_test)\n",
        "maerror = mae(label_test, pred_test)\n",
        "mserror, maerror"
      ],
      "metadata": {
        "id": "ppHiwMSPh0S_"
      },
      "execution_count": null,
      "outputs": []
    },
    {
      "cell_type": "code",
      "source": [
        "pred_all = np.append(pred, pred_test )\n",
        "label_all = np.append(label, label_test)\n",
        "#plt.plot(pred_all, color='red')\n",
        "plt.plot(label_all, color = 'green')\n",
        "plt.plot(pred_all, color = 'blue')\n",
        "plt.plot(pred, color='red')"
      ],
      "metadata": {
        "id": "Fc3h0trajEhN"
      },
      "execution_count": null,
      "outputs": []
    },
    {
      "cell_type": "code",
      "source": [
        "\n",
        "preds = pred_all.reshape(-1,1)\n",
        "predictions = np.empty((812,1))\n",
        "predictions[:] = np.nan\n",
        "predictions[50:] = preds\n",
        "#predictions = preds.shift(-50)\n",
        "data_scaled.shape, preds.shape, predictions.shape"
      ],
      "metadata": {
        "colab": {
          "base_uri": "https://localhost:8080/"
        },
        "id": "3SfibdsL0dG2",
        "outputId": "566de81c-b7ac-45cd-a10d-2ebe55cb6de5"
      },
      "execution_count": null,
      "outputs": [
        {
          "output_type": "execute_result",
          "data": {
            "text/plain": [
              "((812, 40), (762, 1), (812, 1))"
            ]
          },
          "metadata": {},
          "execution_count": 266
        }
      ]
    },
    {
      "cell_type": "code",
      "source": [
        "data_pred = np.hstack((data_scaled, predictions))\n",
        "unscaled_pred = scaler.inverse_transform(data_pred)"
      ],
      "metadata": {
        "id": "RnRq6HTdzzf6"
      },
      "execution_count": null,
      "outputs": []
    },
    {
      "cell_type": "code",
      "source": [
        "unscaled_predictions = unscaled_pred[:,-1]\n",
        "unscaled_predictions.shape, unscaled_pred.shape\n",
        "#u_p = unscaled_predictions.reshape(-1,1)\n",
        "#u_p.shape\n",
        "p = pd.Series(unscaled_predictions)\n",
        "#p.shape"
      ],
      "metadata": {
        "id": "E3IyIsAh6j41"
      },
      "execution_count": null,
      "outputs": []
    },
    {
      "cell_type": "code",
      "source": [
        "p.rename('pred rets', inplace=True)"
      ],
      "metadata": {
        "id": "g0UtRxQq8meN"
      },
      "execution_count": null,
      "outputs": []
    },
    {
      "cell_type": "code",
      "source": [
        "dta = pd.concat([dta, p], axis=1)"
      ],
      "metadata": {
        "id": "1_P9D0Fm8zu1"
      },
      "execution_count": null,
      "outputs": []
    },
    {
      "cell_type": "code",
      "source": [
        "dta"
      ],
      "metadata": {
        "id": "ruUi3A6k9BKY"
      },
      "execution_count": null,
      "outputs": []
    },
    {
      "cell_type": "code",
      "source": [
        "rets = pd.DataFrame(data={\"Predictions\":pred_all.flatten(), \"Actuals\":label_all.flatten()})"
      ],
      "metadata": {
        "id": "xkeVyzCLjTqI"
      },
      "execution_count": null,
      "outputs": []
    },
    {
      "cell_type": "code",
      "source": [
        "model.save(\"/content/drive/MyDrive/Colab Notebooks/models/DL_TA_TEST-signal-4/\")"
      ],
      "metadata": {
        "id": "aVXSKH0Ov3ZT"
      },
      "execution_count": null,
      "outputs": []
    },
    {
      "cell_type": "code",
      "source": [
        "#save all the data to file for further analysis\n",
        "dta.to_csv(\"drive/MyDrive/Colab Notebooks/models/DL_TA_TEST-signal-4/DL_TA_TEST-signal-4.csv\")\n",
        "rets.to_csv(\"drive/MyDrive/Colab Notebooks/models/DL_TA_TEST-signal-4/DL_TA_TEST-signal-4-rets.csv\")"
      ],
      "metadata": {
        "id": "_2nyvBLJhnBZ"
      },
      "execution_count": null,
      "outputs": []
    },
    {
      "cell_type": "code",
      "source": [
        "p.to_csv(\"drive/MyDrive/Colab Notebooks/models/DL_TA_TEST-signal-4/DL_TA_TEST-signal-4-pred_rets_unscaled.csv\")"
      ],
      "metadata": {
        "id": "npDNVTck6Reo"
      },
      "execution_count": null,
      "outputs": []
    },
    {
      "cell_type": "markdown",
      "source": [
        "**STEP 4: BACKTESTING**"
      ],
      "metadata": {
        "id": "TpMrkcxK_wbZ"
      }
    },
    {
      "cell_type": "markdown",
      "source": [
        "**STEP 5: FINAL STEP**\n",
        "*   Save data, files, script and model\n",
        "*   \n",
        "\n"
      ],
      "metadata": {
        "id": "vvvdLgHI_7ix"
      }
    }
  ]
}