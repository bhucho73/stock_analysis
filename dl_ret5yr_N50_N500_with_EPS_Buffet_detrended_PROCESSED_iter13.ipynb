{
  "cells": [
    {
      "cell_type": "code",
      "execution_count": null,
      "metadata": {
        "colab": {
          "base_uri": "https://localhost:8080/"
        },
        "id": "of94IU_RS5Xg",
        "outputId": "999b8c05-46e6-46a5-93c0-2ab6497ddd10"
      },
      "outputs": [
        {
          "name": "stdout",
          "output_type": "stream",
          "text": [
            "Requirement already satisfied: setuptools in /usr/local/lib/python3.10/dist-packages (69.2.0)\n"
          ]
        }
      ],
      "source": [
        "!pip install --upgrade setuptools\n",
        "\n",
        "\n"
      ]
    },
    {
      "cell_type": "code",
      "execution_count": null,
      "metadata": {
        "colab": {
          "base_uri": "https://localhost:8080/"
        },
        "id": "O0hYcPcdU7Ci",
        "outputId": "ab3b7533-25dd-4ace-d6fb-357b54920a8f"
      },
      "outputs": [
        {
          "name": "stdout",
          "output_type": "stream",
          "text": [
            "Files removed: 4\n"
          ]
        }
      ],
      "source": [
        "!pip cache purge"
      ]
    },
    {
      "cell_type": "code",
      "execution_count": null,
      "metadata": {
        "id": "fCkZSFDJVDtI"
      },
      "outputs": [],
      "source": [
        "!pip install tensorflow"
      ]
    },
    {
      "cell_type": "code",
      "execution_count": null,
      "metadata": {
        "id": "OS2ErGdVHIvy"
      },
      "outputs": [],
      "source": [
        "import pandas as pd\n",
        "from matplotlib import pyplot  as plt\n",
        "from google.colab import files\n",
        "files.upload()"
      ]
    },
    {
      "cell_type": "code",
      "execution_count": null,
      "metadata": {
        "colab": {
          "base_uri": "https://localhost:8080/",
          "height": 273
        },
        "id": "ZsBmr_hSHU-R",
        "outputId": "ee21d209-52f2-4dbb-f2ec-30e0c417d684"
      },
      "outputs": [
        {
          "data": {
            "application/vnd.google.colaboratory.intrinsic+json": {
              "type": "dataframe"
            },
            "text/html": [
              "\n",
              "  <div id=\"df-f5fbafcb-294f-4aeb-8fb5-475602e8c100\" class=\"colab-df-container\">\n",
              "    <div>\n",
              "<style scoped>\n",
              "    .dataframe tbody tr th:only-of-type {\n",
              "        vertical-align: middle;\n",
              "    }\n",
              "\n",
              "    .dataframe tbody tr th {\n",
              "        vertical-align: top;\n",
              "    }\n",
              "\n",
              "    .dataframe thead th {\n",
              "        text-align: right;\n",
              "    }\n",
              "</style>\n",
              "<table border=\"1\" class=\"dataframe\">\n",
              "  <thead>\n",
              "    <tr style=\"text-align: right;\">\n",
              "      <th></th>\n",
              "      <th>indexid</th>\n",
              "      <th>Date</th>\n",
              "      <th>pe</th>\n",
              "      <th>pb</th>\n",
              "      <th>divyield</th>\n",
              "      <th>price</th>\n",
              "      <th>Mva-90</th>\n",
              "      <th>Mva-30</th>\n",
              "      <th>up52wk</th>\n",
              "      <th>dn52wk</th>\n",
              "      <th>...</th>\n",
              "      <th>Eps-lag-270</th>\n",
              "      <th>Eps-lag-365</th>\n",
              "      <th>actual_ret</th>\n",
              "      <th>ret5yr</th>\n",
              "      <th>ret3yr</th>\n",
              "      <th>GDP</th>\n",
              "      <th>Index2GDP</th>\n",
              "      <th>Ind2GDP-detrended</th>\n",
              "      <th>rr</th>\n",
              "      <th>repo_rate</th>\n",
              "    </tr>\n",
              "  </thead>\n",
              "  <tbody>\n",
              "    <tr>\n",
              "      <th>19578</th>\n",
              "      <td>4</td>\n",
              "      <td>45372</td>\n",
              "      <td>25.49</td>\n",
              "      <td>4.73</td>\n",
              "      <td>1.23</td>\n",
              "      <td>58918.3</td>\n",
              "      <td>56447.788889</td>\n",
              "      <td>58998.4475</td>\n",
              "      <td>0.593149</td>\n",
              "      <td>0.023301</td>\n",
              "      <td>...</td>\n",
              "      <td>1510.169082</td>\n",
              "      <td>1444.744878</td>\n",
              "      <td>NaN</td>\n",
              "      <td>NaN</td>\n",
              "      <td>NaN</td>\n",
              "      <td>NaN</td>\n",
              "      <td>NaN</td>\n",
              "      <td>NaN</td>\n",
              "      <td>6.5</td>\n",
              "      <td>6.5</td>\n",
              "    </tr>\n",
              "    <tr>\n",
              "      <th>19579</th>\n",
              "      <td>4</td>\n",
              "      <td>45373</td>\n",
              "      <td>25.60</td>\n",
              "      <td>4.75</td>\n",
              "      <td>1.24</td>\n",
              "      <td>59188.9</td>\n",
              "      <td>56562.787302</td>\n",
              "      <td>59000.2050</td>\n",
              "      <td>0.600466</td>\n",
              "      <td>0.018815</td>\n",
              "      <td>...</td>\n",
              "      <td>1510.013750</td>\n",
              "      <td>1445.029014</td>\n",
              "      <td>NaN</td>\n",
              "      <td>NaN</td>\n",
              "      <td>NaN</td>\n",
              "      <td>NaN</td>\n",
              "      <td>NaN</td>\n",
              "      <td>NaN</td>\n",
              "      <td>6.5</td>\n",
              "      <td>6.5</td>\n",
              "    </tr>\n",
              "    <tr>\n",
              "      <th>19580</th>\n",
              "      <td>4</td>\n",
              "      <td>45377</td>\n",
              "      <td>25.87</td>\n",
              "      <td>4.80</td>\n",
              "      <td>1.22</td>\n",
              "      <td>59801.5</td>\n",
              "      <td>56679.718254</td>\n",
              "      <td>59030.3525</td>\n",
              "      <td>0.617030</td>\n",
              "      <td>0.008660</td>\n",
              "      <td>...</td>\n",
              "      <td>1510.342277</td>\n",
              "      <td>1444.796232</td>\n",
              "      <td>NaN</td>\n",
              "      <td>NaN</td>\n",
              "      <td>NaN</td>\n",
              "      <td>NaN</td>\n",
              "      <td>NaN</td>\n",
              "      <td>NaN</td>\n",
              "      <td>6.5</td>\n",
              "      <td>6.5</td>\n",
              "    </tr>\n",
              "    <tr>\n",
              "      <th>19581</th>\n",
              "      <td>4</td>\n",
              "      <td>45378</td>\n",
              "      <td>25.92</td>\n",
              "      <td>4.81</td>\n",
              "      <td>1.21</td>\n",
              "      <td>59911.7</td>\n",
              "      <td>56794.503968</td>\n",
              "      <td>59068.4050</td>\n",
              "      <td>0.620010</td>\n",
              "      <td>0.006833</td>\n",
              "      <td>...</td>\n",
              "      <td>1510.168813</td>\n",
              "      <td>1445.022945</td>\n",
              "      <td>NaN</td>\n",
              "      <td>NaN</td>\n",
              "      <td>NaN</td>\n",
              "      <td>NaN</td>\n",
              "      <td>NaN</td>\n",
              "      <td>NaN</td>\n",
              "      <td>6.5</td>\n",
              "      <td>6.5</td>\n",
              "    </tr>\n",
              "    <tr>\n",
              "      <th>19582</th>\n",
              "      <td>4</td>\n",
              "      <td>45379</td>\n",
              "      <td>22.43</td>\n",
              "      <td>4.31</td>\n",
              "      <td>1.33</td>\n",
              "      <td>60624.3</td>\n",
              "      <td>56916.094444</td>\n",
              "      <td>59180.2550</td>\n",
              "      <td>0.639279</td>\n",
              "      <td>0.000000</td>\n",
              "      <td>...</td>\n",
              "      <td>1510.336742</td>\n",
              "      <td>1445.009630</td>\n",
              "      <td>NaN</td>\n",
              "      <td>NaN</td>\n",
              "      <td>NaN</td>\n",
              "      <td>NaN</td>\n",
              "      <td>NaN</td>\n",
              "      <td>NaN</td>\n",
              "      <td>6.5</td>\n",
              "      <td>6.5</td>\n",
              "    </tr>\n",
              "  </tbody>\n",
              "</table>\n",
              "<p>5 rows × 27 columns</p>\n",
              "</div>\n",
              "    <div class=\"colab-df-buttons\">\n",
              "\n",
              "  <div class=\"colab-df-container\">\n",
              "    <button class=\"colab-df-convert\" onclick=\"convertToInteractive('df-f5fbafcb-294f-4aeb-8fb5-475602e8c100')\"\n",
              "            title=\"Convert this dataframe to an interactive table.\"\n",
              "            style=\"display:none;\">\n",
              "\n",
              "  <svg xmlns=\"http://www.w3.org/2000/svg\" height=\"24px\" viewBox=\"0 -960 960 960\">\n",
              "    <path d=\"M120-120v-720h720v720H120Zm60-500h600v-160H180v160Zm220 220h160v-160H400v160Zm0 220h160v-160H400v160ZM180-400h160v-160H180v160Zm440 0h160v-160H620v160ZM180-180h160v-160H180v160Zm440 0h160v-160H620v160Z\"/>\n",
              "  </svg>\n",
              "    </button>\n",
              "\n",
              "  <style>\n",
              "    .colab-df-container {\n",
              "      display:flex;\n",
              "      gap: 12px;\n",
              "    }\n",
              "\n",
              "    .colab-df-convert {\n",
              "      background-color: #E8F0FE;\n",
              "      border: none;\n",
              "      border-radius: 50%;\n",
              "      cursor: pointer;\n",
              "      display: none;\n",
              "      fill: #1967D2;\n",
              "      height: 32px;\n",
              "      padding: 0 0 0 0;\n",
              "      width: 32px;\n",
              "    }\n",
              "\n",
              "    .colab-df-convert:hover {\n",
              "      background-color: #E2EBFA;\n",
              "      box-shadow: 0px 1px 2px rgba(60, 64, 67, 0.3), 0px 1px 3px 1px rgba(60, 64, 67, 0.15);\n",
              "      fill: #174EA6;\n",
              "    }\n",
              "\n",
              "    .colab-df-buttons div {\n",
              "      margin-bottom: 4px;\n",
              "    }\n",
              "\n",
              "    [theme=dark] .colab-df-convert {\n",
              "      background-color: #3B4455;\n",
              "      fill: #D2E3FC;\n",
              "    }\n",
              "\n",
              "    [theme=dark] .colab-df-convert:hover {\n",
              "      background-color: #434B5C;\n",
              "      box-shadow: 0px 1px 3px 1px rgba(0, 0, 0, 0.15);\n",
              "      filter: drop-shadow(0px 1px 2px rgba(0, 0, 0, 0.3));\n",
              "      fill: #FFFFFF;\n",
              "    }\n",
              "  </style>\n",
              "\n",
              "    <script>\n",
              "      const buttonEl =\n",
              "        document.querySelector('#df-f5fbafcb-294f-4aeb-8fb5-475602e8c100 button.colab-df-convert');\n",
              "      buttonEl.style.display =\n",
              "        google.colab.kernel.accessAllowed ? 'block' : 'none';\n",
              "\n",
              "      async function convertToInteractive(key) {\n",
              "        const element = document.querySelector('#df-f5fbafcb-294f-4aeb-8fb5-475602e8c100');\n",
              "        const dataTable =\n",
              "          await google.colab.kernel.invokeFunction('convertToInteractive',\n",
              "                                                    [key], {});\n",
              "        if (!dataTable) return;\n",
              "\n",
              "        const docLinkHtml = 'Like what you see? Visit the ' +\n",
              "          '<a target=\"_blank\" href=https://colab.research.google.com/notebooks/data_table.ipynb>data table notebook</a>'\n",
              "          + ' to learn more about interactive tables.';\n",
              "        element.innerHTML = '';\n",
              "        dataTable['output_type'] = 'display_data';\n",
              "        await google.colab.output.renderOutput(dataTable, element);\n",
              "        const docLink = document.createElement('div');\n",
              "        docLink.innerHTML = docLinkHtml;\n",
              "        element.appendChild(docLink);\n",
              "      }\n",
              "    </script>\n",
              "  </div>\n",
              "\n",
              "\n",
              "<div id=\"df-b0ae9d54-d15f-44fc-a9c0-c5cfa1c681d6\">\n",
              "  <button class=\"colab-df-quickchart\" onclick=\"quickchart('df-b0ae9d54-d15f-44fc-a9c0-c5cfa1c681d6')\"\n",
              "            title=\"Suggest charts\"\n",
              "            style=\"display:none;\">\n",
              "\n",
              "<svg xmlns=\"http://www.w3.org/2000/svg\" height=\"24px\"viewBox=\"0 0 24 24\"\n",
              "     width=\"24px\">\n",
              "    <g>\n",
              "        <path d=\"M19 3H5c-1.1 0-2 .9-2 2v14c0 1.1.9 2 2 2h14c1.1 0 2-.9 2-2V5c0-1.1-.9-2-2-2zM9 17H7v-7h2v7zm4 0h-2V7h2v10zm4 0h-2v-4h2v4z\"/>\n",
              "    </g>\n",
              "</svg>\n",
              "  </button>\n",
              "\n",
              "<style>\n",
              "  .colab-df-quickchart {\n",
              "      --bg-color: #E8F0FE;\n",
              "      --fill-color: #1967D2;\n",
              "      --hover-bg-color: #E2EBFA;\n",
              "      --hover-fill-color: #174EA6;\n",
              "      --disabled-fill-color: #AAA;\n",
              "      --disabled-bg-color: #DDD;\n",
              "  }\n",
              "\n",
              "  [theme=dark] .colab-df-quickchart {\n",
              "      --bg-color: #3B4455;\n",
              "      --fill-color: #D2E3FC;\n",
              "      --hover-bg-color: #434B5C;\n",
              "      --hover-fill-color: #FFFFFF;\n",
              "      --disabled-bg-color: #3B4455;\n",
              "      --disabled-fill-color: #666;\n",
              "  }\n",
              "\n",
              "  .colab-df-quickchart {\n",
              "    background-color: var(--bg-color);\n",
              "    border: none;\n",
              "    border-radius: 50%;\n",
              "    cursor: pointer;\n",
              "    display: none;\n",
              "    fill: var(--fill-color);\n",
              "    height: 32px;\n",
              "    padding: 0;\n",
              "    width: 32px;\n",
              "  }\n",
              "\n",
              "  .colab-df-quickchart:hover {\n",
              "    background-color: var(--hover-bg-color);\n",
              "    box-shadow: 0 1px 2px rgba(60, 64, 67, 0.3), 0 1px 3px 1px rgba(60, 64, 67, 0.15);\n",
              "    fill: var(--button-hover-fill-color);\n",
              "  }\n",
              "\n",
              "  .colab-df-quickchart-complete:disabled,\n",
              "  .colab-df-quickchart-complete:disabled:hover {\n",
              "    background-color: var(--disabled-bg-color);\n",
              "    fill: var(--disabled-fill-color);\n",
              "    box-shadow: none;\n",
              "  }\n",
              "\n",
              "  .colab-df-spinner {\n",
              "    border: 2px solid var(--fill-color);\n",
              "    border-color: transparent;\n",
              "    border-bottom-color: var(--fill-color);\n",
              "    animation:\n",
              "      spin 1s steps(1) infinite;\n",
              "  }\n",
              "\n",
              "  @keyframes spin {\n",
              "    0% {\n",
              "      border-color: transparent;\n",
              "      border-bottom-color: var(--fill-color);\n",
              "      border-left-color: var(--fill-color);\n",
              "    }\n",
              "    20% {\n",
              "      border-color: transparent;\n",
              "      border-left-color: var(--fill-color);\n",
              "      border-top-color: var(--fill-color);\n",
              "    }\n",
              "    30% {\n",
              "      border-color: transparent;\n",
              "      border-left-color: var(--fill-color);\n",
              "      border-top-color: var(--fill-color);\n",
              "      border-right-color: var(--fill-color);\n",
              "    }\n",
              "    40% {\n",
              "      border-color: transparent;\n",
              "      border-right-color: var(--fill-color);\n",
              "      border-top-color: var(--fill-color);\n",
              "    }\n",
              "    60% {\n",
              "      border-color: transparent;\n",
              "      border-right-color: var(--fill-color);\n",
              "    }\n",
              "    80% {\n",
              "      border-color: transparent;\n",
              "      border-right-color: var(--fill-color);\n",
              "      border-bottom-color: var(--fill-color);\n",
              "    }\n",
              "    90% {\n",
              "      border-color: transparent;\n",
              "      border-bottom-color: var(--fill-color);\n",
              "    }\n",
              "  }\n",
              "</style>\n",
              "\n",
              "  <script>\n",
              "    async function quickchart(key) {\n",
              "      const quickchartButtonEl =\n",
              "        document.querySelector('#' + key + ' button');\n",
              "      quickchartButtonEl.disabled = true;  // To prevent multiple clicks.\n",
              "      quickchartButtonEl.classList.add('colab-df-spinner');\n",
              "      try {\n",
              "        const charts = await google.colab.kernel.invokeFunction(\n",
              "            'suggestCharts', [key], {});\n",
              "      } catch (error) {\n",
              "        console.error('Error during call to suggestCharts:', error);\n",
              "      }\n",
              "      quickchartButtonEl.classList.remove('colab-df-spinner');\n",
              "      quickchartButtonEl.classList.add('colab-df-quickchart-complete');\n",
              "    }\n",
              "    (() => {\n",
              "      let quickchartButtonEl =\n",
              "        document.querySelector('#df-b0ae9d54-d15f-44fc-a9c0-c5cfa1c681d6 button');\n",
              "      quickchartButtonEl.style.display =\n",
              "        google.colab.kernel.accessAllowed ? 'block' : 'none';\n",
              "    })();\n",
              "  </script>\n",
              "</div>\n",
              "\n",
              "    </div>\n",
              "  </div>\n"
            ],
            "text/plain": [
              "       indexid   Date     pe    pb  divyield    price        Mva-90  \\\n",
              "19578        4  45372  25.49  4.73      1.23  58918.3  56447.788889   \n",
              "19579        4  45373  25.60  4.75      1.24  59188.9  56562.787302   \n",
              "19580        4  45377  25.87  4.80      1.22  59801.5  56679.718254   \n",
              "19581        4  45378  25.92  4.81      1.21  59911.7  56794.503968   \n",
              "19582        4  45379  22.43  4.31      1.33  60624.3  56916.094444   \n",
              "\n",
              "           Mva-30    up52wk    dn52wk  ...  Eps-lag-270  Eps-lag-365  \\\n",
              "19578  58998.4475  0.593149  0.023301  ...  1510.169082  1444.744878   \n",
              "19579  59000.2050  0.600466  0.018815  ...  1510.013750  1445.029014   \n",
              "19580  59030.3525  0.617030  0.008660  ...  1510.342277  1444.796232   \n",
              "19581  59068.4050  0.620010  0.006833  ...  1510.168813  1445.022945   \n",
              "19582  59180.2550  0.639279  0.000000  ...  1510.336742  1445.009630   \n",
              "\n",
              "       actual_ret  ret5yr  ret3yr  GDP  Index2GDP  Ind2GDP-detrended   rr  \\\n",
              "19578         NaN     NaN     NaN  NaN        NaN                NaN  6.5   \n",
              "19579         NaN     NaN     NaN  NaN        NaN                NaN  6.5   \n",
              "19580         NaN     NaN     NaN  NaN        NaN                NaN  6.5   \n",
              "19581         NaN     NaN     NaN  NaN        NaN                NaN  6.5   \n",
              "19582         NaN     NaN     NaN  NaN        NaN                NaN  6.5   \n",
              "\n",
              "       repo_rate  \n",
              "19578        6.5  \n",
              "19579        6.5  \n",
              "19580        6.5  \n",
              "19581        6.5  \n",
              "19582        6.5  \n",
              "\n",
              "[5 rows x 27 columns]"
            ]
          },
          "execution_count": 144,
          "metadata": {},
          "output_type": "execute_result"
        }
      ],
      "source": [
        "rets = pd.read_csv('FINAL-N50-NN50-N500_Hist-data--EPS-Buffett-detrend-repo-PROCESSED.csv')\n",
        "rets.tail()"
      ]
    },
    {
      "cell_type": "code",
      "execution_count": null,
      "metadata": {
        "colab": {
          "base_uri": "https://localhost:8080/"
        },
        "id": "-s0wtkvIIKNi",
        "outputId": "33b91c08-9690-435d-8f16-f32a5556f09a"
      },
      "outputs": [
        {
          "name": "stdout",
          "output_type": "stream",
          "text": [
            "2.15.0\n"
          ]
        }
      ],
      "source": [
        "from __future__ import absolute_import, division, print_function\n",
        "import pathlib\n",
        "import seaborn as sns\n",
        "import tensorflow as tf\n",
        "from tensorflow import keras\n",
        "from tensorflow.keras import layers\n",
        "import numpy as np\n",
        "print(tf.__version__)"
      ]
    },
    {
      "cell_type": "code",
      "execution_count": null,
      "metadata": {
        "id": "-Sauk0afj9Uj"
      },
      "outputs": [],
      "source": [
        "#rets = rets[rets.indexid < 3.6]"
      ]
    },
    {
      "cell_type": "code",
      "execution_count": null,
      "metadata": {
        "id": "f_rBlm1PBiQK"
      },
      "outputs": [],
      "source": [
        "rets.sort_values(by=['Date'], inplace=True)\n",
        "#rets = rets.drop(['Date','pe-30','pb-30', 'dy-30', 'Mva-30', 'price', 'EPS-mva90','ret3yr', 'GDP', 'repo_rate'], axis=1)\n",
        "rets = rets.drop(['Date','pe-30','pb-30', 'dy-30', 'Mva-30', 'price', 'EPS-mva90','ret3yr', 'GDP', 'repo_rate'], axis=1)\n",
        "rets_orig = rets.drop('ret5yr', axis=1)\n",
        "rets.dropna(inplace=True)\n",
        "rets.head()\n"
      ]
    },
    {
      "cell_type": "code",
      "execution_count": null,
      "metadata": {
        "id": "-sx71jyFJtOH"
      },
      "outputs": [],
      "source": [
        "rets.describe()\n"
      ]
    },
    {
      "cell_type": "code",
      "execution_count": null,
      "metadata": {
        "id": "5NBMW9dmqpsG"
      },
      "outputs": [],
      "source": [
        "#sns.pairplot(rets[[\"ret5yr\", \"rr\" ]], diag_kind=\"kde\")\n",
        "#sns.pairplot(rets[[\"ret5yr\", \"pe\", \"pb\", \"divyield\", \"up52wk\", \"dn52wk\",\"Index2GDP\" ]], diag_kind=\"kde\")"
      ]
    },
    {
      "cell_type": "code",
      "execution_count": null,
      "metadata": {
        "colab": {
          "base_uri": "https://localhost:8080/"
        },
        "id": "caKIAHA7PXbH",
        "outputId": "977f8f60-044b-4943-a596-c1ce1cb095f8"
      },
      "outputs": [
        {
          "name": "stdout",
          "output_type": "stream",
          "text": [
            "(1331, 17) (12500, 17)\n"
          ]
        }
      ],
      "source": [
        "test_2 = rets.iloc[12500:,:]\n",
        "rets = rets.iloc[:12500,:]\n",
        "print(test_2.shape, rets.shape)"
      ]
    },
    {
      "cell_type": "code",
      "execution_count": null,
      "metadata": {
        "id": "SNY2JkVDTbC7"
      },
      "outputs": [],
      "source": [
        "rets_orig.dropna(subset = ['indexid', 'pe', 'pb', 'divyield', 'Mva-90','up52wk', 'dn52wk', 'Eps-ttm', 'Eps-lag-90', 'Eps-lag-180', 'Eps-lag-270', 'Eps-lag-365','Index2GDP', 'Ind2GDP-detrended', 'rr' ], inplace=True)\n",
        "rets_orig.reset_index()\n",
        "rets_orig_actuals = rets_orig.pop('actual_ret')\n",
        "rets_orig.head()"
      ]
    },
    {
      "cell_type": "code",
      "execution_count": null,
      "metadata": {
        "id": "zwB8rO8AmEEE"
      },
      "outputs": [],
      "source": [
        "rets_orig.shape"
      ]
    },
    {
      "cell_type": "markdown",
      "metadata": {
        "id": "Bcq4-qpGTXVf"
      },
      "source": []
    },
    {
      "cell_type": "code",
      "execution_count": null,
      "metadata": {
        "id": "QAfyhSRUz0wG"
      },
      "outputs": [],
      "source": [
        "# Only used in case we do not want to split train and test (because we have already got test set: test_2)\n",
        "#train_set = rets.copy()\n",
        "#train_set.tail()"
      ]
    },
    {
      "cell_type": "code",
      "execution_count": null,
      "metadata": {
        "id": "_1UqgQrrIRxM"
      },
      "outputs": [],
      "source": [
        "from sklearn.model_selection import ShuffleSplit\n",
        "#from sklearn.model_selection import train_test_split\n",
        "#train_set, test_set, train_labels, test_labels =  train_test_split(rets, rets_labels, test_size=0.2, shuffle=False)\n",
        "split = ShuffleSplit(n_splits = 1, test_size = 0.05, random_state = 0)\n",
        "#[\"ind_wkyr\"] = y8r[\"index_id\"].astype(str) + y8r[\"weekyear\"].astype(str)\n",
        "#y8r = y8r.drop(\"index_id\")\n",
        "#y8r = y8r.drop(\"weekyr\")\n",
        "for train_ind, test_ind in split.split(rets):\n",
        "    train_set = rets.iloc[train_ind]\n",
        "    test_set = rets.iloc[test_ind]"
      ]
    },
    {
      "cell_type": "code",
      "execution_count": null,
      "metadata": {
        "id": "DV8di5X8b9rm"
      },
      "outputs": [],
      "source": [
        "train_set.pop('ret5yr')\n",
        "test_set.pop('ret5yr')\n",
        "test_2.pop('ret5yr')\n",
        "#test_actuals = test_2.pop('actual_ret')\n",
        "train_labels = train_set.pop('actual_ret')\n",
        "test_labels = test_set.pop('actual_ret')\n",
        "test_2_labels = test_2.pop('actual_ret')"
      ]
    },
    {
      "cell_type": "code",
      "execution_count": null,
      "metadata": {
        "id": "ADyFO6yGtBuW"
      },
      "outputs": [],
      "source": [
        "#test_2_labels = test_actuals.copy()\n",
        "#test_2_labels.tail()"
      ]
    },
    {
      "cell_type": "code",
      "execution_count": null,
      "metadata": {
        "id": "JGht1XkTtdie"
      },
      "outputs": [],
      "source": [
        "test_2_labels.tail()"
      ]
    },
    {
      "cell_type": "code",
      "execution_count": null,
      "metadata": {
        "id": "rFBVomreI1Sg"
      },
      "outputs": [],
      "source": [
        "#train_labels = train_set.pop(\"ret5yr\")\n",
        "#train_labels = train_set.pop(\"ret3yr\")\n",
        "train_set.tail()\n"
      ]
    },
    {
      "cell_type": "code",
      "execution_count": null,
      "metadata": {
        "id": "Gi4JXM75JLak"
      },
      "outputs": [],
      "source": [
        "#test_labels = test_set.pop(\"ret5yr\")\n",
        "#test_labels = test_set.pop(\"ret3yr\")\n",
        "test_set.tail()"
      ]
    },
    {
      "cell_type": "code",
      "execution_count": null,
      "metadata": {
        "id": "VI9ZZDIclzEL"
      },
      "outputs": [],
      "source": [
        "#test_set.pop('up52wk')\n",
        "#test_set.pop('dn52wk')\n",
        "#train_set.pop('up52wk')\n",
        "#train_set.pop('dn52wk')"
      ]
    },
    {
      "cell_type": "code",
      "execution_count": null,
      "metadata": {
        "id": "f1KmtwN2J0MB"
      },
      "outputs": [],
      "source": [
        "train_stats = train_set.describe()\n",
        "#train_stats.pop('ret8yr')\n",
        "train_stats = train_stats.transpose()\n",
        "print(train_stats.head)\n",
        "print(train_set.shape)\n"
      ]
    },
    {
      "cell_type": "code",
      "execution_count": null,
      "metadata": {
        "id": "HLKNMjZMWaTB"
      },
      "outputs": [],
      "source": [
        "#test_2_labels = test_2.pop(\"ret5yr\")\n",
        "#test_2_labels = test_2.pop(\"ret3yr\")\n",
        "test_2.tail()"
      ]
    },
    {
      "cell_type": "code",
      "execution_count": null,
      "metadata": {
        "id": "QDQbRG__sOLt"
      },
      "outputs": [],
      "source": [
        "test_2_labels.describe()"
      ]
    },
    {
      "cell_type": "code",
      "execution_count": null,
      "metadata": {
        "id": "nZ9_vJRTJLXV"
      },
      "outputs": [],
      "source": [
        "def norm(x):\n",
        "  return (x - train_stats['mean'])/train_stats['std']\n",
        "normed_train_set = norm(train_set)\n",
        "normed_test_set = norm(test_set)\n",
        "normed_test_2 = norm(test_2)"
      ]
    },
    {
      "cell_type": "code",
      "execution_count": null,
      "metadata": {
        "id": "8DPXaSZJKHmf"
      },
      "outputs": [],
      "source": [
        "def my_model():\n",
        "  model = keras.Sequential([\n",
        "      layers.Dense(128, activation=tf.nn.relu, input_shape=[len(normed_train_set.keys())]),\n",
        "      layers.Dense(128, activation= tf.nn.relu),\n",
        "      layers.Dense(64, activation= tf.nn.relu),\n",
        "      #layers.Dense(64, activation= tf.nn.relu),\n",
        "      layers.Dense(32, activation= tf.nn.relu),\n",
        "      layers.Dense(1, activation= tf.nn.relu)\n",
        "  ])\n",
        "\n",
        "  opt = tf.keras.optimizers.Adam(.001)\n",
        "  model.compile(loss='mse',\n",
        "                optimizer=opt, metrics=['mae', 'mse'])\n",
        "  return model\n"
      ]
    },
    {
      "cell_type": "code",
      "execution_count": null,
      "metadata": {
        "colab": {
          "base_uri": "https://localhost:8080/"
        },
        "id": "cQGppSv4KfKd",
        "outputId": "2cecb651-8dad-483e-aace-b9b72b8534b9"
      },
      "outputs": [
        {
          "name": "stdout",
          "output_type": "stream",
          "text": [
            "Model: \"sequential_4\"\n",
            "_________________________________________________________________\n",
            " Layer (type)                Output Shape              Param #   \n",
            "=================================================================\n",
            " dense_20 (Dense)            (None, 128)               2048      \n",
            "                                                                 \n",
            " dense_21 (Dense)            (None, 128)               16512     \n",
            "                                                                 \n",
            " dense_22 (Dense)            (None, 64)                8256      \n",
            "                                                                 \n",
            " dense_23 (Dense)            (None, 32)                2080      \n",
            "                                                                 \n",
            " dense_24 (Dense)            (None, 1)                 33        \n",
            "                                                                 \n",
            "=================================================================\n",
            "Total params: 28929 (113.00 KB)\n",
            "Trainable params: 28929 (113.00 KB)\n",
            "Non-trainable params: 0 (0.00 Byte)\n",
            "_________________________________________________________________\n"
          ]
        }
      ],
      "source": [
        "model = my_model()\n",
        "\n",
        "early_stop = keras.callbacks.EarlyStopping(monitor='val_loss', patience=10)\n",
        "model.summary()\n",
        "\n"
      ]
    },
    {
      "cell_type": "code",
      "execution_count": null,
      "metadata": {
        "colab": {
          "background_save": true
        },
        "id": "_zBPYcivKrmP"
      },
      "outputs": [],
      "source": [
        "#Train model\n",
        "\n",
        "class PrintDot(keras.callbacks.Callback):\n",
        "  def on_epoch_end(self, epoch, logs):\n",
        "    if epoch % 100 == 0: print(\" \")\n",
        "    print('.',end='')\n",
        "\n",
        "EPOCHS = 700\n",
        "history = model.fit(\n",
        "    normed_train_set, train_labels,\n",
        "    epochs=EPOCHS, validation_split=0.2, verbose=0,\n",
        "    callbacks=[PrintDot()]\n",
        ")"
      ]
    },
    {
      "cell_type": "code",
      "execution_count": null,
      "metadata": {
        "id": "1T1Ac3xlK3rn"
      },
      "outputs": [],
      "source": [
        "hist = pd.DataFrame(history.history)\n",
        "hist['epoch'] = history.epoch\n",
        "hist.tail()"
      ]
    },
    {
      "cell_type": "code",
      "execution_count": null,
      "metadata": {
        "id": "OQ22YA9BK9Mr"
      },
      "outputs": [],
      "source": [
        "import matplotlib.pyplot as plt\n",
        "def plot_history(history):\n",
        "  hist = pd.DataFrame(history.history)\n",
        "  hist['epoch'] = history.epoch\n",
        "\n",
        "  plt.figure()\n",
        "  plt.xlabel('Epoch')\n",
        "  plt.ylabel('MAE(rets)')\n",
        "  plt.plot(hist['epoch'], hist['mae'], label=\"Train Error\")\n",
        "  plt.plot(hist['epoch'], hist['val_mae'], label=\"Validation Error\")\n",
        "  plt.legend()\n",
        "  plt.ylim([0,5])\n",
        "\n",
        "  plt.figure()\n",
        "  plt.xlabel('Epoch')\n",
        "  plt.ylabel('MSE($rets^2$)')\n",
        "  plt.plot(hist['epoch'], hist['mse'], label=\"Train Error\")\n",
        "  plt.plot(hist['epoch'], hist['val_mse'], label=\"Validation Error\")\n",
        "  plt.legend()\n",
        "  plt.ylim([0,20])\n",
        "\n",
        "plot_history(history)"
      ]
    },
    {
      "cell_type": "code",
      "execution_count": null,
      "metadata": {
        "id": "sf9DU0NFLFSL"
      },
      "outputs": [],
      "source": [
        "loss, mae, mse = model.evaluate(normed_test_set, test_labels, verbose=2)\n",
        "print(\"Testing set Mean Abs Error: {:5.2f}x, {:5.2f}x\".format(mae, mse))\n"
      ]
    },
    {
      "cell_type": "code",
      "execution_count": null,
      "metadata": {
        "id": "AhAPoZo7LICw"
      },
      "outputs": [],
      "source": [
        "test_predictions = model.predict(normed_test_set).flatten()\n",
        "plt.scatter(test_labels,test_predictions)\n",
        "plt.xlabel('True Values')\n",
        "plt.ylabel('Predicted values')\n",
        "plt.axis('equal')\n",
        "plt.axis('square')\n",
        "plt.xlim([0,plt.xlim()[1]])\n",
        "plt.ylim([0,plt.ylim()[1]])\n",
        "_ = plt.plot([-100,100],[-100,100])"
      ]
    },
    {
      "cell_type": "code",
      "execution_count": null,
      "metadata": {
        "id": "LfDpnahmLYbM"
      },
      "outputs": [],
      "source": [
        "error = test_predictions - test_labels\n",
        "plt.hist(error, bins=50)\n",
        "plt.xlabel(\"Prediciton Error(x)\")\n",
        "_ = plt.ylabel(\"Count\")"
      ]
    },
    {
      "cell_type": "code",
      "execution_count": null,
      "metadata": {
        "colab": {
          "base_uri": "https://localhost:8080/"
        },
        "id": "WCd4FjdP5V9N",
        "outputId": "06bc7bb3-1642-4265-aa69-a5be8bd81bfd"
      },
      "outputs": [
        {
          "data": {
            "text/plain": [
              "((1331, 15), (1331, 15))"
            ]
          },
          "execution_count": 401,
          "metadata": {},
          "output_type": "execute_result"
        }
      ],
      "source": [
        "test_2.shape, normed_test_2.shape"
      ]
    },
    {
      "cell_type": "code",
      "execution_count": null,
      "metadata": {
        "colab": {
          "base_uri": "https://localhost:8080/"
        },
        "id": "U316yQclVsUs",
        "outputId": "86a40f71-66b1-40a8-eafe-fd49216a9910"
      },
      "outputs": [
        {
          "name": "stdout",
          "output_type": "stream",
          "text": [
            "42/42 - 0s - loss: 0.0851 - mae: 0.2215 - mse: 0.0851 - 478ms/epoch - 11ms/step\n",
            "Testing set Mean Abs Error:  0.22x,  0.09x\n"
          ]
        }
      ],
      "source": [
        "loss, mae, mse = model.evaluate(normed_test_2, test_2_labels, verbose=2)\n",
        "print(\"Testing set Mean Abs Error: {:5.2f}x, {:5.2f}x\".format(mae, mse))\n",
        "#print(\"Testing set Mean Abs Error: {:5.2f} x\".format(mae))\n",
        "#print(\"Testing set Mean sqrd Error: {:5.2f} x\".format(mse))"
      ]
    },
    {
      "cell_type": "code",
      "execution_count": null,
      "metadata": {
        "colab": {
          "base_uri": "https://localhost:8080/"
        },
        "id": "Bl-yfB-NfdxG",
        "outputId": "2cc3a9b7-c016-4788-cc31-3444bb1b3768"
      },
      "outputs": [
        {
          "data": {
            "text/plain": [
              "((17211, 15), (17211, 15))"
            ]
          },
          "execution_count": 109,
          "metadata": {},
          "output_type": "execute_result"
        }
      ],
      "source": [
        "#rets_orig.sort_index(inplace=True)\n",
        "#rets_orig_actuals.sort_index(inplace=True)\n",
        "normed_orig = norm(rets_orig)\n",
        "normed_orig.shape, rets_orig.shape"
      ]
    },
    {
      "cell_type": "code",
      "execution_count": null,
      "metadata": {
        "colab": {
          "base_uri": "https://localhost:8080/"
        },
        "id": "0ABX5beGmfgn",
        "outputId": "f336266c-cbf0-4958-8acb-26fef2029fbf"
      },
      "outputs": [
        {
          "name": "stdout",
          "output_type": "stream",
          "text": [
            "538/538 [==============================] - 1s 2ms/step\n"
          ]
        }
      ],
      "source": [
        "\n",
        "all_predictions = model.predict(normed_orig).flatten()"
      ]
    },
    {
      "cell_type": "code",
      "execution_count": null,
      "metadata": {
        "id": "YzBhxpZnXIvI"
      },
      "outputs": [],
      "source": [
        "test_2_predictions = model.predict(normed_test_2).flatten()\n",
        "plt.scatter(test_actuals,test_2_predictions)\n",
        "plt.xlabel('True Values')\n",
        "plt.ylabel('Predicted values')\n",
        "plt.axis('equal')\n",
        "plt.axis('square')\n",
        "plt.xlim([0,plt.xlim()[1]])\n",
        "plt.ylim([0,plt.ylim()[1]])\n",
        "_ = plt.plot([-100,100],[-100,100])"
      ]
    },
    {
      "cell_type": "code",
      "execution_count": null,
      "metadata": {
        "id": "VPWNC9XZXSai"
      },
      "outputs": [],
      "source": [
        "error2 = test_2_predictions - test_2_labels\n",
        "plt.hist(error2, bins=50)\n",
        "plt.xlabel(\"Prediciton Error(x)\")\n",
        "_ = plt.ylabel(\"Count\")"
      ]
    },
    {
      "cell_type": "code",
      "execution_count": null,
      "metadata": {
        "id": "1yewWqUuM8sx"
      },
      "outputs": [],
      "source": [
        "model.save(\"/content/drive/MyDrive/Colab Notebooks/models/model5yr-All-800EPOCH-25VAL-128-128-64-32-1/\")"
      ]
    },
    {
      "cell_type": "code",
      "execution_count": null,
      "metadata": {
        "colab": {
          "base_uri": "https://localhost:8080/"
        },
        "id": "qS976fwzTm-I",
        "outputId": "f7cf366d-c7a7-4dda-a86e-fb2263fd6ded"
      },
      "outputs": [
        {
          "name": "stdout",
          "output_type": "stream",
          "text": [
            "Drive already mounted at /content/drive; to attempt to forcibly remount, call drive.mount(\"/content/drive\", force_remount=True).\n"
          ]
        }
      ],
      "source": [
        "from google.colab import drive\n",
        "drive.mount('/content/drive')"
      ]
    },
    {
      "cell_type": "code",
      "execution_count": null,
      "metadata": {
        "id": "HwO4JOqiVxoI"
      },
      "outputs": [],
      "source": [
        "test_labels.to_csv(\"drive/MyDrive/Colab Notebooks/models/model5yr-All-800EPOCH-25VAL-128-128-64-32-1/test_labels.csv\")"
      ]
    },
    {
      "cell_type": "code",
      "execution_count": null,
      "metadata": {
        "id": "zef2K7T_WPqD"
      },
      "outputs": [],
      "source": [
        "test_set.to_csv(\"drive/MyDrive/Colab Notebooks/models/model5yr-All-800EPOCH-25VAL-128-128-64-32-1/test_set.csv\")"
      ]
    },
    {
      "cell_type": "code",
      "execution_count": null,
      "metadata": {
        "id": "iVj_Yxv6WZzT"
      },
      "outputs": [],
      "source": [
        "dataset = pd.DataFrame({'ret': test_predictions[:]})\n",
        "dataset.to_csv(\"drive/MyDrive/Colab Notebooks/models/model5yr-All-800EPOCH-25VAL-128-128-64-32-1/test_predictions.csv\")"
      ]
    },
    {
      "cell_type": "code",
      "execution_count": null,
      "metadata": {
        "id": "uePl1rYdiK3w"
      },
      "outputs": [],
      "source": [
        "dataset = pd.DataFrame({'ret': test_2_predictions[:]})\n",
        "dataset.to_csv(\"drive/MyDrive/Colab Notebooks/models/model5yr-All-800EPOCH-25VAL-128-128-64-32-1/test_2_predictions.csv\")"
      ]
    },
    {
      "cell_type": "code",
      "execution_count": null,
      "metadata": {
        "id": "8pmJTw0xqYqT"
      },
      "outputs": [],
      "source": [
        "dataset = pd.DataFrame({'ret': all_predictions[:]})\n",
        "dataset.to_csv(\"drive/MyDrive/Colab Notebooks/models/model5yr-All-800EPOCH-25VAL-128-128-64-32-1/all_predictions.csv\")"
      ]
    },
    {
      "cell_type": "code",
      "execution_count": null,
      "metadata": {
        "id": "Xzm3EyZQi0AV"
      },
      "outputs": [],
      "source": [
        "test_2_labels.to_csv(\"drive/MyDrive/Colab Notebooks/models/model5yr-All-800EPOCH-25VAL-128-128-64-32-1/test_2_labels.csv\")\n",
        "test_2.to_csv(\"drive/MyDrive/Colab Notebooks/models/model5yr-All-800EPOCH-25VAL-128-128-64-32-1/test_2.csv\")\n"
      ]
    },
    {
      "cell_type": "code",
      "execution_count": null,
      "metadata": {
        "id": "U3ql9rtsf31a"
      },
      "outputs": [],
      "source": [
        "test_actuals.to_csv(\"drive/MyDrive/Colab Notebooks/models/model5yr-All-800EPOCH-25VAL-128-128-64-32-1/test_2_actual_rets.csv\")"
      ]
    },
    {
      "cell_type": "code",
      "execution_count": null,
      "metadata": {
        "id": "rfZc8M6IyGkU"
      },
      "outputs": [],
      "source": [
        "rets_orig.to_csv(\"drive/MyDrive/Colab Notebooks/models/model5yr-All-800EPOCH-25VAL-128-128-64-32-1/rets_orig.csv\")\n",
        "rets_orig_actuals.to_csv(\"drive/MyDrive/Colab Notebooks/models/model5yr-All-800EPOCH-25VAL-128-128-64-32-1/rets_orig_actuals.csv\")"
      ]
    },
    {
      "cell_type": "code",
      "execution_count": null,
      "metadata": {
        "id": "q7cwIQ8vxmAt"
      },
      "outputs": [],
      "source": [
        "#Load already saved model\n",
        "model = keras.models.load_model(\"/content/drive/MyDrive/Colab Notebooks/models/model5yr-All-800EPOCH-25VAL-128-128-64-32-1/\")\n",
        "model.summary()"
      ]
    }
  ],
  "metadata": {
    "colab": {
      "provenance": []
    },
    "kernelspec": {
      "display_name": "Python 3",
      "name": "python3"
    },
    "language_info": {
      "name": "python"
    }
  },
  "nbformat": 4,
  "nbformat_minor": 0
}