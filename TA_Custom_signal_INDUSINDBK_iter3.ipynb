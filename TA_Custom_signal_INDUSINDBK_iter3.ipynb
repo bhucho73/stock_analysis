{
  "nbformat": 4,
  "nbformat_minor": 0,
  "metadata": {
    "colab": {
      "provenance": []
    },
    "kernelspec": {
      "name": "python3",
      "display_name": "Python 3"
    },
    "language_info": {
      "name": "python"
    }
  },
  "cells": [
    {
      "cell_type": "markdown",
      "source": [
        "**STEP 0: SETUP**\n",
        "*   Setup the environment here.\n",
        "*   Install/Import libraries as needed.\n",
        "*   Mount drive(s)\n"
      ],
      "metadata": {
        "id": "2v8NVFC87JyR"
      }
    },
    {
      "cell_type": "code",
      "source": [],
      "metadata": {
        "id": "Qo7e2f9t4bfT"
      },
      "execution_count": null,
      "outputs": []
    },
    {
      "cell_type": "code",
      "source": [
        "from google.colab import drive\n",
        "drive.mount('/content/drive')"
      ],
      "metadata": {
        "colab": {
          "base_uri": "https://localhost:8080/"
        },
        "id": "JgWsIJUh7EQA",
        "outputId": "c49f4630-87bf-436a-8e62-59aef9f3ebe0"
      },
      "execution_count": 1,
      "outputs": [
        {
          "output_type": "stream",
          "name": "stdout",
          "text": [
            "Drive already mounted at /content/drive; to attempt to forcibly remount, call drive.mount(\"/content/drive\", force_remount=True).\n"
          ]
        }
      ]
    },
    {
      "cell_type": "code",
      "source": [
        "from __future__ import absolute_import, division, print_function\n",
        "import pathlib\n",
        "import seaborn as sns\n",
        "import tensorflow as tf\n",
        "from tensorflow import keras\n",
        "from tensorflow.keras import layers\n",
        "import numpy as np\n",
        "import pandas as pd\n",
        "import matplotlib as plt\n",
        "from matplotlib import pyplot  as plt\n",
        "from google.colab import files\n",
        "print(tf.__version__)"
      ],
      "metadata": {
        "id": "JNojNCE_LyYh",
        "colab": {
          "base_uri": "https://localhost:8080/"
        },
        "outputId": "2d0e7cd3-55f7-41c5-fae9-4b1fec610204"
      },
      "execution_count": null,
      "outputs": [
        {
          "output_type": "stream",
          "name": "stdout",
          "text": [
            "2.15.0\n"
          ]
        }
      ]
    },
    {
      "cell_type": "code",
      "source": [
        "#!pip install torch"
      ],
      "metadata": {
        "id": "y90tPiTDTSrm"
      },
      "execution_count": null,
      "outputs": []
    },
    {
      "cell_type": "code",
      "source": [
        "import yfinance as yf"
      ],
      "metadata": {
        "id": "YcK-f2CbSx03"
      },
      "execution_count": null,
      "outputs": []
    },
    {
      "cell_type": "code",
      "source": [
        "!pip install pandas-ta\n",
        "import pandas_ta as pta"
      ],
      "metadata": {
        "id": "H4OmR5oGL6HH",
        "colab": {
          "base_uri": "https://localhost:8080/"
        },
        "outputId": "5b670629-13ef-43fa-cf01-2f623fa62211"
      },
      "execution_count": null,
      "outputs": [
        {
          "output_type": "stream",
          "name": "stdout",
          "text": [
            "Collecting pandas-ta\n",
            "  Downloading pandas_ta-0.3.14b.tar.gz (115 kB)\n",
            "\u001b[2K     \u001b[90m━━━━━━━━━━━━━━━━━━━━━━━━━━━━━━━━━━━━━━━━\u001b[0m \u001b[32m115.1/115.1 kB\u001b[0m \u001b[31m1.1 MB/s\u001b[0m eta \u001b[36m0:00:00\u001b[0m\n",
            "\u001b[?25h  Preparing metadata (setup.py) ... \u001b[?25l\u001b[?25hdone\n",
            "Requirement already satisfied: pandas in /usr/local/lib/python3.10/dist-packages (from pandas-ta) (2.0.3)\n",
            "Requirement already satisfied: python-dateutil>=2.8.2 in /usr/local/lib/python3.10/dist-packages (from pandas->pandas-ta) (2.8.2)\n",
            "Requirement already satisfied: pytz>=2020.1 in /usr/local/lib/python3.10/dist-packages (from pandas->pandas-ta) (2023.4)\n",
            "Requirement already satisfied: tzdata>=2022.1 in /usr/local/lib/python3.10/dist-packages (from pandas->pandas-ta) (2024.1)\n",
            "Requirement already satisfied: numpy>=1.21.0 in /usr/local/lib/python3.10/dist-packages (from pandas->pandas-ta) (1.25.2)\n",
            "Requirement already satisfied: six>=1.5 in /usr/local/lib/python3.10/dist-packages (from python-dateutil>=2.8.2->pandas->pandas-ta) (1.16.0)\n",
            "Building wheels for collected packages: pandas-ta\n",
            "  Building wheel for pandas-ta (setup.py) ... \u001b[?25l\u001b[?25hdone\n",
            "  Created wheel for pandas-ta: filename=pandas_ta-0.3.14b0-py3-none-any.whl size=218907 sha256=ec3770af382ac69f27d0c7e87177148f3ed2ea34ce0a8cf74d23f09f864bc289\n",
            "  Stored in directory: /root/.cache/pip/wheels/69/00/ac/f7fa862c34b0e2ef320175100c233377b4c558944f12474cf0\n",
            "Successfully built pandas-ta\n",
            "Installing collected packages: pandas-ta\n",
            "Successfully installed pandas-ta-0.3.14b0\n"
          ]
        }
      ]
    },
    {
      "cell_type": "code",
      "source": [
        "!pip install ta\n",
        "import ta\n",
        "from ta.momentum import RSIIndicator\n",
        "from ta.momentum import StochasticOscillator\n",
        "from ta.trend import ADXIndicator\n",
        "from ta.volatility import BollingerBands\n",
        "from ta.volatility import AverageTrueRange"
      ],
      "metadata": {
        "colab": {
          "base_uri": "https://localhost:8080/"
        },
        "id": "aK3xsJTteF1W",
        "outputId": "7d79d0b7-ebc8-4906-983d-ee8f5a3c834e"
      },
      "execution_count": null,
      "outputs": [
        {
          "output_type": "stream",
          "name": "stdout",
          "text": [
            "Collecting ta\n",
            "  Downloading ta-0.11.0.tar.gz (25 kB)\n",
            "  Preparing metadata (setup.py) ... \u001b[?25l\u001b[?25hdone\n",
            "Requirement already satisfied: numpy in /usr/local/lib/python3.10/dist-packages (from ta) (1.25.2)\n",
            "Requirement already satisfied: pandas in /usr/local/lib/python3.10/dist-packages (from ta) (2.0.3)\n",
            "Requirement already satisfied: python-dateutil>=2.8.2 in /usr/local/lib/python3.10/dist-packages (from pandas->ta) (2.8.2)\n",
            "Requirement already satisfied: pytz>=2020.1 in /usr/local/lib/python3.10/dist-packages (from pandas->ta) (2023.4)\n",
            "Requirement already satisfied: tzdata>=2022.1 in /usr/local/lib/python3.10/dist-packages (from pandas->ta) (2024.1)\n",
            "Requirement already satisfied: six>=1.5 in /usr/local/lib/python3.10/dist-packages (from python-dateutil>=2.8.2->pandas->ta) (1.16.0)\n",
            "Building wheels for collected packages: ta\n",
            "  Building wheel for ta (setup.py) ... \u001b[?25l\u001b[?25hdone\n",
            "  Created wheel for ta: filename=ta-0.11.0-py3-none-any.whl size=29411 sha256=ff436b71adaf3f65fd0332d66b073e654d9884860a80838a2f4b1a673263d282\n",
            "  Stored in directory: /root/.cache/pip/wheels/5f/67/4f/8a9f252836e053e532c6587a3230bc72a4deb16b03a829610b\n",
            "Successfully built ta\n",
            "Installing collected packages: ta\n",
            "Successfully installed ta-0.11.0\n"
          ]
        }
      ]
    },
    {
      "cell_type": "code",
      "source": [
        "import warnings\n",
        "warnings.filterwarnings('ignore')\n"
      ],
      "metadata": {
        "id": "0vdYp3mTa_o0"
      },
      "execution_count": null,
      "outputs": []
    },
    {
      "cell_type": "markdown",
      "source": [
        "**STEP 1: PREPROCESSING**\n",
        "*   Fetch Data and process it to derive more data\n",
        "*   Cleanup the data to make it ready for the next step\n"
      ],
      "metadata": {
        "id": "0XMYBaO-7036"
      }
    },
    {
      "cell_type": "code",
      "source": [
        "tkr = 'INDUSINDBK.NS'\n",
        "#tkr = 'HDFCBANK.NS'\n",
        "data = yf.download(tkr, start='2022-05-01', end='2024-12-31')\n",
        "\n",
        "#Adjust High, Low, Open Close prices.\n",
        "data['Open'] = data['Open']*data['Adj Close']/data['Close']\n",
        "data['High'] = data['High']*data['Adj Close']/data['Close']\n",
        "data['Low'] = data['Low']*data['Adj Close']/data['Close']\n",
        "data['Close'] = data['Adj Close']"
      ],
      "metadata": {
        "colab": {
          "base_uri": "https://localhost:8080/"
        },
        "id": "lu3pPFnqO3C3",
        "outputId": "22508ee5-5900-432d-8d83-a00dde9df556"
      },
      "execution_count": null,
      "outputs": [
        {
          "output_type": "stream",
          "name": "stderr",
          "text": [
            "\r[*********************100%%**********************]  1 of 1 completed\n"
          ]
        }
      ]
    },
    {
      "cell_type": "code",
      "source": [
        "#plt.subplot(3,1,1)\n",
        "plt.figure(figsize=(14, 10))\n",
        "plt.plot(data['Close'], color='g')\n"
      ],
      "metadata": {
        "colab": {
          "base_uri": "https://localhost:8080/",
          "height": 657
        },
        "id": "G_sDu47CnbGU",
        "outputId": "8da9ed9b-f431-49f9-a26c-6fabce64cdf6"
      },
      "execution_count": null,
      "outputs": [
        {
          "output_type": "execute_result",
          "data": {
            "text/plain": [
              "[<matplotlib.lines.Line2D at 0x7f4e69496050>]"
            ]
          },
          "metadata": {},
          "execution_count": 130
        },
        {
          "output_type": "display_data",
          "data": {
            "text/plain": [
              "<Figure size 1400x1000 with 1 Axes>"
            ],
            "image/png": "[encoded data removed]"
          },
          "metadata": {}
        }
      ]
    },
    {
      "cell_type": "code",
      "source": [],
      "metadata": {
        "id": "GsCUIQnMAWFu"
      },
      "execution_count": null,
      "outputs": []
    },
    {
      "cell_type": "code",
      "source": [
        "plt.subplot(4,1,1)\n",
        "#plt.plot(data['sig-buy'], color='b')\n",
        "plt.plot(data['pta-adx-pn%'][:200], color='b')\n",
        "\n",
        "plt.subplot(4,1,2)\n",
        "plt.plot(data['pta-rsi'][:200], color='k')\n",
        "\n",
        "plt.subplot(4,1,3)\n",
        "plt.plot(data['Adj Close'][:200], color='k')\n",
        "adj_rsi = 20*(1 + data['pta-adx-pn%'])/data['pta-rsi']\n",
        "plt.subplot(4,1,4)\n",
        "plt.plot(adj_rsi[:200], color='k')"
      ],
      "metadata": {
        "id": "rdXYqu110I-g"
      },
      "execution_count": null,
      "outputs": []
    },
    {
      "cell_type": "code",
      "source": [
        "#MACD uisng TA Pkg\n",
        "macd_obj = ta.trend.MACD(data['Adj Close'])\n",
        "data['ta-macd'] = macd_obj.macd()\n",
        "data['ta-macd-sig'] = macd_obj.macd_signal()\n",
        "data['ta-macd-sig%'] = data['ta-macd']/data['ta-macd-sig']\n",
        "\n",
        "#RSI using Pandas TA package\n",
        "df1 = pta.rsi(data['Adj Close'])\n",
        "df1.rename('pta-rsi', inplace=True)\n",
        "data = pd.concat([data, df1], axis=1)\n",
        "#data['pta-rsi%-25'] = data['pta-rsi']/25.0\n",
        "\n",
        "#Stoch indicator using Pandas TA pkg\n",
        "df = pta.stoch(data['High'],data['Low'],data['Close'])\n",
        "df.rename(columns={'STOCHk_14_3_3':'pta-stochk','STOCHd_14_3_3':'pta-stochd'}, inplace=True)\n",
        "data = pd.concat([data, df], axis=1)\n",
        "\n",
        "#Stochastic Oscillator using TA pkg\n",
        "stoch = StochasticOscillator(data['High'],data['Low'],data['Close'])\n",
        "data['ta-stoch'] = stoch.stoch()\n",
        "\n",
        "df = pta.vwap(data['High'],data['Low'],data['Close'], data['Volume'])\n",
        "df.rename('pta-vwap', inplace=True)\n",
        "data = pd.concat([data, df], axis=1)\n",
        "\n",
        "\n",
        "#ADX using Pandas TA pkg\n",
        "df = pta.adx(data['High'],data['Low'],data['Close'])\n",
        "df.rename(columns={'ADX_14':'pta-adx','DMP_14':'pta-adx-dmp','DMN_14':'pta-adx-dmn'}, inplace=True)\n",
        "data = pd.concat([data, df], axis=1)\n",
        "\n",
        "#data['pta-adx%-25'] = data['pta-adx']/25\n",
        "data['pta-adx-pn%'] = data['pta-adx-dmp']/data['pta-adx-dmn']\n",
        "\n",
        "data['sma5'] = data['Adj Close'].rolling(5).mean()\n",
        "data['sma10'] = data['Adj Close'].rolling(10).mean()\n",
        "data['sma20'] = data['Adj Close'].rolling(20).mean()\n",
        "data['sma50'] = data['Adj Close'].rolling(50).mean()\n",
        "#data['sma200'] = data['Adj Close'].rolling(200).mean()\n",
        "data['ema20'] = data['Adj Close'].ewm(span=20).mean()\n",
        "#data['ema200'] = data['Adj Close'].ewm(span=200).mean()\n",
        "\n",
        "data['sma5%'] =  data['Adj Close']/data['sma5']\n",
        "data['sma10%'] =  data['Adj Close']/data['sma10']\n",
        "data['sma20%'] =  data['Adj Close']/data['sma20']\n",
        "data['sma50%'] =  data['Adj Close']/data['sma50']\n",
        "\n",
        "data.dropna(inplace=True)\n"
      ],
      "metadata": {
        "id": "PKjZqqVgqsOW"
      },
      "execution_count": null,
      "outputs": []
    },
    {
      "cell_type": "code",
      "source": [],
      "metadata": {
        "id": "3F4XXqxvrgkE"
      },
      "execution_count": null,
      "outputs": []
    },
    {
      "cell_type": "code",
      "source": [
        "#Calculate 'Up from 52 wk low' and 'down from 52 wk high'\n",
        "def updn(df, period=50):\n",
        "  max = df['Adj Close'].rolling(window=period).max().shift(1)\n",
        "  min = df['Adj Close'].rolling(window=period).min().shift(1)\n",
        "  dn = 1 - (df['Adj Close']/max)\n",
        "  up = (df['Adj Close']/min) - 1\n",
        "  return dn, up\n",
        "\n",
        "data['dn50'], data['up50'] = updn(data)\n",
        "#data"
      ],
      "metadata": {
        "id": "Uav6Kw2_rwGR"
      },
      "execution_count": null,
      "outputs": []
    },
    {
      "cell_type": "code",
      "source": [
        "# Function to get the invest values as some series crosses 1. Ex: MACD/Sig, SMA/Price ratios.\n",
        "#This is done to allocate max points to the point where these series invert (important signals for buy/sell)\n",
        "def conv_val(df):\n",
        "  #df1 = pd.Series('buy-macd-sig')\n",
        "  for i, v in df.items():\n",
        "    if v > 1.:\n",
        "      df[i] = 1/v;\n",
        "  return df"
      ],
      "metadata": {
        "id": "tXRTnK1VWQGv"
      },
      "execution_count": null,
      "outputs": []
    },
    {
      "cell_type": "code",
      "source": [
        "#data"
      ],
      "metadata": {
        "id": "fEc_rICPcJQl"
      },
      "execution_count": null,
      "outputs": []
    },
    {
      "cell_type": "code",
      "source": [
        "#adx discount factor\n",
        "adx_disc = 0.1\n",
        "#macd disc factor\n",
        "macd_disc = 0.01\n",
        "\n",
        "rsi = data['pta-rsi']/100.   # RSI value should be less than 25. Lesser the better\n",
        "rsi = rsi.apply(lambda x: 0.01 if x > 0.45 else x)  #set RSI to zero for all RSI > 45 for buying\n",
        "data.insert(1,'buy-rsi', rsi)\n",
        "\n",
        "stochd = data['pta-stochd']/100.\n",
        "stochd = stochd.apply(lambda x: 0.01 if x > 0.35 else x)  #set STOCHD to zero for all STOCHD > 35 for buying\n",
        "data.insert(2,'buy-stochd', stochd)\n",
        "data['buy-macd'] = data.apply(lambda row: 1. if row['ta-macd'] < 0. and row['ta-macd-sig'] < 0.  else 0, axis=1)\n",
        "macd_sig = conv_val(data['ta-macd-sig%'].copy())\n",
        "data.insert(3,'buy-macd-sig', macd_sig)\n",
        "adx_pn= adx_disc*2/data['pta-adx-pn%']\n",
        "data.insert(4,'buy-adx-pn', adx_pn)\n",
        "data['buy-adx'] = adx_disc*10./data['pta-adx']\n",
        "sma5 = conv_val(data['sma5%'].copy())\n",
        "data.insert(5,'buy-sma5', sma5)\n",
        "sma10 = conv_val(data['sma10%'].copy())\n",
        "data.insert(6,'buy-sma10', sma10)\n",
        "data['buy-sma50'] = data.apply(lambda row: 1. if row['sma50%'] < 0.99 else 0, axis=1)\n",
        "sig = data[data.columns[data.columns.str.startswith('buy-')]].mul(data['buy-macd'], axis=0)\n",
        "sig = sig.mul(data['buy-sma50'], axis=0)\n",
        "sig = sig.drop(['buy-sma50', 'buy-macd'], axis = 1)\n",
        "sig['signal-buy'] = sig.mean(axis=1)\n",
        "data.insert(1,'sig-buy', sig['signal-buy'])\n",
        "data = data.drop(['buy-macd', 'buy-sma50'], axis = 1)"
      ],
      "metadata": {
        "id": "oH_K6N_wvG6q"
      },
      "execution_count": null,
      "outputs": []
    },
    {
      "cell_type": "code",
      "source": [
        "#adx discount factor\n",
        "adx_disc = 0.1\n",
        "#macd disc factor\n",
        "macd_disc = 0.01\n",
        "\n",
        "sell_rsi= data['pta-rsi']/100.   # RSI value should be greater than 70. More the better\n",
        "sell_rsi = sell_rsi.apply(lambda x: 0.01 if x < 0.55 else x)  #set RSI to zero for all RSI < 55 for buying\n",
        "data.insert(8,'sell-rsi', sell_rsi)\n",
        "sell_stochd = data['pta-stochd']/100.\n",
        "sell_stochd = sell_stochd.apply(lambda x: 0.01 if x < 0.65 else x)  #set STOCHD to zero for all STOCHD < 65 for buying\n",
        "data.insert(9,'sell-stochd', sell_stochd)\n",
        "data['sell-macd'] = data.apply(lambda row: 1. if row['ta-macd'] > 0. and row['ta-macd-sig'] > 0. else 0, axis=1)\n",
        "macd_sig = conv_val(data['ta-macd-sig%'].copy())\n",
        "data.insert(10,'sell-macd-sig', macd_sig)\n",
        "adx_pn = 2*data['pta-adx-pn%']*adx_disc\n",
        "data.insert(11,'sell-adx-pn',adx_pn)\n",
        "data['sell-adx'] = adx_disc*10./data['pta-adx']\n",
        "sma5 = conv_val(data['sma5%'].copy())\n",
        "data.insert(12,'sell-sma5', sma5)\n",
        "\n",
        "sma10 = conv_val(data['sma10%'].copy())\n",
        "data.insert(13,'sell-sma10', sma10)\n",
        "data['sell-sma50'] = data.apply(lambda row: 1. if row['sma50%'] > 1.01 else 0, axis=1)\n",
        "data.describe()\n",
        "sig1 = data[data.columns[data.columns.str.startswith('sell-')]].mul(data['sell-macd'], axis=0)\n",
        "sig1 = sig1.mul(data['sell-sma50'], axis=0)\n",
        "sig1 = sig1.drop(['sell-sma50', 'sell-macd'], axis = 1)\n",
        "sig1['signal-sell'] = sig1.mean(axis=1)\n",
        "data.insert(1,'sig-sell', sig1['signal-sell'])\n",
        "data = data.drop(['sell-macd', 'sell-sma50'], axis = 1)\n"
      ],
      "metadata": {
        "id": "rvmO4XBK4TZX"
      },
      "execution_count": null,
      "outputs": []
    },
    {
      "cell_type": "code",
      "source": [
        "data = data.drop(['Adj Close','Volume'], axis = 1)\n",
        "data.dropna(inplace=True)\n",
        "#data"
      ],
      "metadata": {
        "id": "LUiyUtmrqG5r"
      },
      "execution_count": null,
      "outputs": []
    },
    {
      "cell_type": "code",
      "source": [
        "max = data['sig-buy'].max()\n",
        "min = data['sig-buy'].min()\n",
        "data['sig-buy'] = (data['sig-buy'] - min)/(max-min)\n",
        "\n",
        "max = data['sig-sell'].max()\n",
        "min = data['sig-sell'].min()\n",
        "data['sig-sell'] = (data['sig-sell'] - min)/(max-min)"
      ],
      "metadata": {
        "id": "SXoSgsGp2Dk2"
      },
      "execution_count": null,
      "outputs": []
    },
    {
      "cell_type": "code",
      "source": [
        "data"
      ],
      "metadata": {
        "id": "qHmBlIczOH8-"
      },
      "execution_count": null,
      "outputs": []
    },
    {
      "cell_type": "code",
      "source": [
        "data.to_csv(\"drive/MyDrive/Colab Notebooks/TA_INDUSINDBANK-signals-CALCULATED-2.csv\")"
      ],
      "metadata": {
        "id": "ruUi3A6k9BKY"
      },
      "execution_count": null,
      "outputs": []
    },
    {
      "cell_type": "markdown",
      "source": [
        "**STEP 4: BACKTESTING**"
      ],
      "metadata": {
        "id": "TpMrkcxK_wbZ"
      }
    },
    {
      "cell_type": "code",
      "source": [
        "def buy_sell_count(df, bcutoff, scutoff):\n",
        "  buy_cnt = 0\n",
        "  sell_cnt = 0\n",
        "  if bcutoff <= 0. or bcutoff >= 1. or scutoff <= 0. or scutoff >= 1.:\n",
        "    print(\"Cut off values must be between 0 and 1\")\n",
        "  else:\n",
        "      buy_cnt = df[df['sig-buy'] >= bcutoff].count()\n",
        "      sell_cnt = df[df['sig-sell'] >= scutoff].count()\n",
        "      print(buy_cnt['sig-buy'], sell_cnt['sig-sell'])\n",
        "  return buy_cnt['sig-buy'], sell_cnt['sig-buy']"
      ],
      "metadata": {
        "id": "crB7ZOFkSHzA"
      },
      "execution_count": null,
      "outputs": []
    },
    {
      "cell_type": "code",
      "source": [
        "def build_trades(df, bcutoff, scutoff, units):\n",
        "  # default buy/sell units is 1 for now.\n",
        "  calls = \"\"\n",
        "  trds = pd.DataFrame(columns=['entry_dt', 'entry_price','exit_dt', 'exit_price', 'rets'])\n",
        "  buys = pd.DataFrame(columns=['edt', 'eprice'])\n",
        "#loop through the dataframe and do the necessary calculations\n",
        "  for index, row in df.iterrows():\n",
        "    if row['sig-buy'] >= bcutoff:\n",
        "      if buys.shape[0] < units:\n",
        "        calls +='e,'\n",
        "        buys = buys._append({'edt': index, 'eprice': row['Close']}, ignore_index = True)\n",
        "    elif row['sig-sell'] >= scutoff:\n",
        "      if not buys.empty:\n",
        "        calls +='x,'\n",
        "        trds = trds._append({'entry_dt': buys['edt'].iloc[0], 'entry_price': buys['eprice'].iloc[0], 'exit_dt': index, 'exit_price': row['Close'], 'rets': row['Close']/buys['eprice'].iloc[0]}, ignore_index = True)\n",
        "        buys = buys.drop(buys.index[0])\n",
        "    else:\n",
        "      continue\n",
        "  trds['profit_loss'] = (trds['rets'] - 1)*trds['entry_price']\n",
        "  pl = trds['profit_loss'].copy()\n",
        "  #trds\n",
        "  pl.iloc[0] = pl.iloc[0] + trds['entry_price'].iloc[0]\n",
        "  #trds['cum_amt'] += trds['entry_price'].iloc[0]\n",
        "  trds['cum_amt'] = pl.cumsum()\n",
        "\n",
        "  trds['cum_rets'] = trds['rets'].cumprod()\n",
        "  return trds, calls\n",
        "  #return trds\n",
        "\n",
        "\n",
        "#trades = build_trades(data, buy_cutoff, sell_cutoff, units)"
      ],
      "metadata": {
        "id": "Qq7lFun3ZVfL"
      },
      "execution_count": null,
      "outputs": []
    },
    {
      "cell_type": "code",
      "source": [
        "def perf_metrics(df):\n",
        "  metrics = {}\n",
        "  total_profit = df['cum_amt'].iloc[-1] - df['entry_price'].iloc[0]\n",
        "  perc_rets = (df['cum_rets'].iloc[-1] - 1)*100\n",
        "  profit = 0.\n",
        "  loss = 0.\n",
        "  wins = 0\n",
        "  for i, row in df.iterrows():\n",
        "    if row['rets'] > 1.:\n",
        "      profit += row['profit_loss']\n",
        "      wins += 1\n",
        "    elif row['rets'] < 1.:\n",
        "      loss += (-1)*row['profit_loss']\n",
        "    else:\n",
        "      continue\n",
        "  profit_factor = 0\n",
        "  if loss > 0.:\n",
        "    profit_factor = profit/loss\n",
        "  else:\n",
        "    profit_factor = pd.NA\n",
        "\n",
        "  win_ratio = wins/df.shape[0]\n",
        "  avg_profit = total_profit/df.shape[0]\n",
        "\n",
        "  maxdd = df['cum_amt'].copy()\n",
        "  #maxdd.insert(0, df['entry_price'].iloc[0])\n",
        "  maxdd = pd.concat([pd.Series([df['entry_price'].iloc[0]]), maxdd])\n",
        "\n",
        "  #mdd = df['profit_loss'].max() - df['cum_amt'].min()\n",
        "  Roll_Max = maxdd.rolling(len(maxdd), min_periods=1).max()\n",
        "  Daily_Drawdown = maxdd/Roll_Max - 1.0\n",
        "  # Next we calculate the minimum (negative) daily drawdown in that window.\n",
        "  # Again, use min_periods=1 if you want to allow the expanding window\n",
        "  Max_Daily_Drawdown = Daily_Drawdown.rolling(len(maxdd), min_periods=1).min()\n",
        "  mdd = Max_Daily_Drawdown.min()\n",
        "  metrics = {'Total Profit' : total_profit, '% Rets': perc_rets,'Profit Factor': profit_factor,\\\n",
        "             'Win Ratio': win_ratio, 'Average Profit': avg_profit, 'Max Drawdown': mdd}\n",
        "\n",
        "  return metrics, Roll_Max, Daily_Drawdown, Max_Daily_Drawdown"
      ],
      "metadata": {
        "id": "pSKXE4xEV_LN"
      },
      "execution_count": null,
      "outputs": []
    },
    {
      "cell_type": "code",
      "source": [],
      "metadata": {
        "id": "F6ctXioit3n_"
      },
      "execution_count": null,
      "outputs": []
    },
    {
      "cell_type": "code",
      "source": [],
      "metadata": {
        "id": "NZoT6a5Nt3Oa"
      },
      "execution_count": null,
      "outputs": []
    },
    {
      "cell_type": "code",
      "source": [
        "# Run the Performance test\n",
        "\n",
        "# Strategy: We have employed a very basic dumb strategy. That is to enter every entry call unless we exhaust\n",
        "# the total number of investible units. Then we sell at the first sell call until we redeem all our investible units.\n",
        "# It starts with first buy call. All sell calls before the first buy call are ignored.\n",
        "# Any investments will be squared off on the last sell call\n",
        "\n",
        "# Cut off values must be between 0 and 1. Units must be an integer and >= 1.\n",
        "buy_cutoff = 0.55    #Cut off value for the signal to enter a trade. Lower values are ignored.\n",
        "sell_cutoff = 0.55   # cut off for an exit.\n",
        "\n",
        "units = 1          # no of investable units. This may be a parameter as the chances that there\n",
        "                    # will be an alternate buy and sell signal are almost non-existent. Buy/sell signals happen is clusters\n",
        "\n",
        "bcnt, scnt = buy_sell_count(data, buy_cutoff, sell_cutoff)\n",
        "print(\"Buy Calls: \", bcnt)\n",
        "print(\"Sell Calls: \", scnt)\n",
        "\n"
      ],
      "metadata": {
        "colab": {
          "base_uri": "https://localhost:8080/"
        },
        "id": "ebMGFtNIQFkr",
        "outputId": "382c9fac-4abc-4353-d167-e92c82456ee7"
      },
      "execution_count": null,
      "outputs": [
        {
          "output_type": "stream",
          "name": "stdout",
          "text": [
            "99 211\n",
            "Buy Calls:  99\n",
            "Sell Calls:  211\n"
          ]
        }
      ]
    },
    {
      "cell_type": "code",
      "source": [
        "#build trades data\n",
        "trades, calls = build_trades(data, buy_cutoff, sell_cutoff, units)\n",
        "buyhold = data['Close'].iloc[-1]/data['Close'].iloc[0]   #Buy and Hold returns\n",
        "#print(\"Average returns from custom signal\" , trades['cum_rets'].iloc[-1]/trades.shape[0])\n",
        "print(\"Buy and Hold returns\" , buyhold)\n",
        "print(\"calls\" , calls)   # Print whether it is an entry('e') or exit('x') call"
      ],
      "metadata": {
        "id": "8suUIEsUhGbq"
      },
      "execution_count": null,
      "outputs": []
    },
    {
      "cell_type": "code",
      "source": [
        "trades"
      ],
      "metadata": {
        "colab": {
          "base_uri": "https://localhost:8080/",
          "height": 143
        },
        "id": "t3lmDvx3XEtC",
        "outputId": "36f6f63d-511b-43e7-ca8a-664911170eff"
      },
      "execution_count": null,
      "outputs": [
        {
          "output_type": "execute_result",
          "data": {
            "text/plain": [
              "    entry_dt  entry_price    exit_dt   exit_price      rets  profit_loss  \\\n",
              "0 2022-11-07  1131.734375 2022-12-05  1182.527100  1.044880    50.792725   \n",
              "1 2023-01-30  1077.232300 2023-04-20  1113.979004  1.034112    36.746704   \n",
              "2 2024-02-02  1533.750000 2024-04-03  1542.650024  1.005803     8.900024   \n",
              "\n",
              "       cum_amt  cum_rets  \n",
              "0  1182.527100  1.044880  \n",
              "1  1219.273804  1.080524  \n",
              "2  1228.173828  1.086794  "
            ],
            "text/html": [
              "\n",
              "  <div id=\"df-a373a7f4-4e95-433c-b171-e05f4c7e9f54\" class=\"colab-df-container\">\n",
              "    <div>\n",
              "<style scoped>\n",
              "    .dataframe tbody tr th:only-of-type {\n",
              "        vertical-align: middle;\n",
              "    }\n",
              "\n",
              "    .dataframe tbody tr th {\n",
              "        vertical-align: top;\n",
              "    }\n",
              "\n",
              "    .dataframe thead th {\n",
              "        text-align: right;\n",
              "    }\n",
              "</style>\n",
              "<table border=\"1\" class=\"dataframe\">\n",
              "  <thead>\n",
              "    <tr style=\"text-align: right;\">\n",
              "      <th></th>\n",
              "      <th>entry_dt</th>\n",
              "      <th>entry_price</th>\n",
              "      <th>exit_dt</th>\n",
              "      <th>exit_price</th>\n",
              "      <th>rets</th>\n",
              "      <th>profit_loss</th>\n",
              "      <th>cum_amt</th>\n",
              "      <th>cum_rets</th>\n",
              "    </tr>\n",
              "  </thead>\n",
              "  <tbody>\n",
              "    <tr>\n",
              "      <th>0</th>\n",
              "      <td>2022-11-07</td>\n",
              "      <td>1131.734375</td>\n",
              "      <td>2022-12-05</td>\n",
              "      <td>1182.527100</td>\n",
              "      <td>1.044880</td>\n",
              "      <td>50.792725</td>\n",
              "      <td>1182.527100</td>\n",
              "      <td>1.044880</td>\n",
              "    </tr>\n",
              "    <tr>\n",
              "      <th>1</th>\n",
              "      <td>2023-01-30</td>\n",
              "      <td>1077.232300</td>\n",
              "      <td>2023-04-20</td>\n",
              "      <td>1113.979004</td>\n",
              "      <td>1.034112</td>\n",
              "      <td>36.746704</td>\n",
              "      <td>1219.273804</td>\n",
              "      <td>1.080524</td>\n",
              "    </tr>\n",
              "    <tr>\n",
              "      <th>2</th>\n",
              "      <td>2024-02-02</td>\n",
              "      <td>1533.750000</td>\n",
              "      <td>2024-04-03</td>\n",
              "      <td>1542.650024</td>\n",
              "      <td>1.005803</td>\n",
              "      <td>8.900024</td>\n",
              "      <td>1228.173828</td>\n",
              "      <td>1.086794</td>\n",
              "    </tr>\n",
              "  </tbody>\n",
              "</table>\n",
              "</div>\n",
              "    <div class=\"colab-df-buttons\">\n",
              "\n",
              "  <div class=\"colab-df-container\">\n",
              "    <button class=\"colab-df-convert\" onclick=\"convertToInteractive('df-a373a7f4-4e95-433c-b171-e05f4c7e9f54')\"\n",
              "            title=\"Convert this dataframe to an interactive table.\"\n",
              "            style=\"display:none;\">\n",
              "\n",
              "  <svg xmlns=\"http://www.w3.org/2000/svg\" height=\"24px\" viewBox=\"0 -960 960 960\">\n",
              "    <path d=\"M120-120v-720h720v720H120Zm60-500h600v-160H180v160Zm220 220h160v-160H400v160Zm0 220h160v-160H400v160ZM180-400h160v-160H180v160Zm440 0h160v-160H620v160ZM180-180h160v-160H180v160Zm440 0h160v-160H620v160Z\"/>\n",
              "  </svg>\n",
              "    </button>\n",
              "\n",
              "  <style>\n",
              "    .colab-df-container {\n",
              "      display:flex;\n",
              "      gap: 12px;\n",
              "    }\n",
              "\n",
              "    .colab-df-convert {\n",
              "      background-color: #E8F0FE;\n",
              "      border: none;\n",
              "      border-radius: 50%;\n",
              "      cursor: pointer;\n",
              "      display: none;\n",
              "      fill: #1967D2;\n",
              "      height: 32px;\n",
              "      padding: 0 0 0 0;\n",
              "      width: 32px;\n",
              "    }\n",
              "\n",
              "    .colab-df-convert:hover {\n",
              "      background-color: #E2EBFA;\n",
              "      box-shadow: 0px 1px 2px rgba(60, 64, 67, 0.3), 0px 1px 3px 1px rgba(60, 64, 67, 0.15);\n",
              "      fill: #174EA6;\n",
              "    }\n",
              "\n",
              "    .colab-df-buttons div {\n",
              "      margin-bottom: 4px;\n",
              "    }\n",
              "\n",
              "    [theme=dark] .colab-df-convert {\n",
              "      background-color: #3B4455;\n",
              "      fill: #D2E3FC;\n",
              "    }\n",
              "\n",
              "    [theme=dark] .colab-df-convert:hover {\n",
              "      background-color: #434B5C;\n",
              "      box-shadow: 0px 1px 3px 1px rgba(0, 0, 0, 0.15);\n",
              "      filter: drop-shadow(0px 1px 2px rgba(0, 0, 0, 0.3));\n",
              "      fill: #FFFFFF;\n",
              "    }\n",
              "  </style>\n",
              "\n",
              "    <script>\n",
              "      const buttonEl =\n",
              "        document.querySelector('#df-a373a7f4-4e95-433c-b171-e05f4c7e9f54 button.colab-df-convert');\n",
              "      buttonEl.style.display =\n",
              "        google.colab.kernel.accessAllowed ? 'block' : 'none';\n",
              "\n",
              "      async function convertToInteractive(key) {\n",
              "        const element = document.querySelector('#df-a373a7f4-4e95-433c-b171-e05f4c7e9f54');\n",
              "        const dataTable =\n",
              "          await google.colab.kernel.invokeFunction('convertToInteractive',\n",
              "                                                    [key], {});\n",
              "        if (!dataTable) return;\n",
              "\n",
              "        const docLinkHtml = 'Like what you see? Visit the ' +\n",
              "          '<a target=\"_blank\" href=https://colab.research.google.com/notebooks/data_table.ipynb>data table notebook</a>'\n",
              "          + ' to learn more about interactive tables.';\n",
              "        element.innerHTML = '';\n",
              "        dataTable['output_type'] = 'display_data';\n",
              "        await google.colab.output.renderOutput(dataTable, element);\n",
              "        const docLink = document.createElement('div');\n",
              "        docLink.innerHTML = docLinkHtml;\n",
              "        element.appendChild(docLink);\n",
              "      }\n",
              "    </script>\n",
              "  </div>\n",
              "\n",
              "\n",
              "<div id=\"df-a844ccec-3898-4914-9710-8bc014364eb3\">\n",
              "  <button class=\"colab-df-quickchart\" onclick=\"quickchart('df-a844ccec-3898-4914-9710-8bc014364eb3')\"\n",
              "            title=\"Suggest charts\"\n",
              "            style=\"display:none;\">\n",
              "\n",
              "<svg xmlns=\"http://www.w3.org/2000/svg\" height=\"24px\"viewBox=\"0 0 24 24\"\n",
              "     width=\"24px\">\n",
              "    <g>\n",
              "        <path d=\"M19 3H5c-1.1 0-2 .9-2 2v14c0 1.1.9 2 2 2h14c1.1 0 2-.9 2-2V5c0-1.1-.9-2-2-2zM9 17H7v-7h2v7zm4 0h-2V7h2v10zm4 0h-2v-4h2v4z\"/>\n",
              "    </g>\n",
              "</svg>\n",
              "  </button>\n",
              "\n",
              "<style>\n",
              "  .colab-df-quickchart {\n",
              "      --bg-color: #E8F0FE;\n",
              "      --fill-color: #1967D2;\n",
              "      --hover-bg-color: #E2EBFA;\n",
              "      --hover-fill-color: #174EA6;\n",
              "      --disabled-fill-color: #AAA;\n",
              "      --disabled-bg-color: #DDD;\n",
              "  }\n",
              "\n",
              "  [theme=dark] .colab-df-quickchart {\n",
              "      --bg-color: #3B4455;\n",
              "      --fill-color: #D2E3FC;\n",
              "      --hover-bg-color: #434B5C;\n",
              "      --hover-fill-color: #FFFFFF;\n",
              "      --disabled-bg-color: #3B4455;\n",
              "      --disabled-fill-color: #666;\n",
              "  }\n",
              "\n",
              "  .colab-df-quickchart {\n",
              "    background-color: var(--bg-color);\n",
              "    border: none;\n",
              "    border-radius: 50%;\n",
              "    cursor: pointer;\n",
              "    display: none;\n",
              "    fill: var(--fill-color);\n",
              "    height: 32px;\n",
              "    padding: 0;\n",
              "    width: 32px;\n",
              "  }\n",
              "\n",
              "  .colab-df-quickchart:hover {\n",
              "    background-color: var(--hover-bg-color);\n",
              "    box-shadow: 0 1px 2px rgba(60, 64, 67, 0.3), 0 1px 3px 1px rgba(60, 64, 67, 0.15);\n",
              "    fill: var(--button-hover-fill-color);\n",
              "  }\n",
              "\n",
              "  .colab-df-quickchart-complete:disabled,\n",
              "  .colab-df-quickchart-complete:disabled:hover {\n",
              "    background-color: var(--disabled-bg-color);\n",
              "    fill: var(--disabled-fill-color);\n",
              "    box-shadow: none;\n",
              "  }\n",
              "\n",
              "  .colab-df-spinner {\n",
              "    border: 2px solid var(--fill-color);\n",
              "    border-color: transparent;\n",
              "    border-bottom-color: var(--fill-color);\n",
              "    animation:\n",
              "      spin 1s steps(1) infinite;\n",
              "  }\n",
              "\n",
              "  @keyframes spin {\n",
              "    0% {\n",
              "      border-color: transparent;\n",
              "      border-bottom-color: var(--fill-color);\n",
              "      border-left-color: var(--fill-color);\n",
              "    }\n",
              "    20% {\n",
              "      border-color: transparent;\n",
              "      border-left-color: var(--fill-color);\n",
              "      border-top-color: var(--fill-color);\n",
              "    }\n",
              "    30% {\n",
              "      border-color: transparent;\n",
              "      border-left-color: var(--fill-color);\n",
              "      border-top-color: var(--fill-color);\n",
              "      border-right-color: var(--fill-color);\n",
              "    }\n",
              "    40% {\n",
              "      border-color: transparent;\n",
              "      border-right-color: var(--fill-color);\n",
              "      border-top-color: var(--fill-color);\n",
              "    }\n",
              "    60% {\n",
              "      border-color: transparent;\n",
              "      border-right-color: var(--fill-color);\n",
              "    }\n",
              "    80% {\n",
              "      border-color: transparent;\n",
              "      border-right-color: var(--fill-color);\n",
              "      border-bottom-color: var(--fill-color);\n",
              "    }\n",
              "    90% {\n",
              "      border-color: transparent;\n",
              "      border-bottom-color: var(--fill-color);\n",
              "    }\n",
              "  }\n",
              "</style>\n",
              "\n",
              "  <script>\n",
              "    async function quickchart(key) {\n",
              "      const quickchartButtonEl =\n",
              "        document.querySelector('#' + key + ' button');\n",
              "      quickchartButtonEl.disabled = true;  // To prevent multiple clicks.\n",
              "      quickchartButtonEl.classList.add('colab-df-spinner');\n",
              "      try {\n",
              "        const charts = await google.colab.kernel.invokeFunction(\n",
              "            'suggestCharts', [key], {});\n",
              "      } catch (error) {\n",
              "        console.error('Error during call to suggestCharts:', error);\n",
              "      }\n",
              "      quickchartButtonEl.classList.remove('colab-df-spinner');\n",
              "      quickchartButtonEl.classList.add('colab-df-quickchart-complete');\n",
              "    }\n",
              "    (() => {\n",
              "      let quickchartButtonEl =\n",
              "        document.querySelector('#df-a844ccec-3898-4914-9710-8bc014364eb3 button');\n",
              "      quickchartButtonEl.style.display =\n",
              "        google.colab.kernel.accessAllowed ? 'block' : 'none';\n",
              "    })();\n",
              "  </script>\n",
              "</div>\n",
              "\n",
              "  <div id=\"id_f69286ff-dc6b-4595-97a7-2d53719f1515\">\n",
              "    <style>\n",
              "      .colab-df-generate {\n",
              "        background-color: #E8F0FE;\n",
              "        border: none;\n",
              "        border-radius: 50%;\n",
              "        cursor: pointer;\n",
              "        display: none;\n",
              "        fill: #1967D2;\n",
              "        height: 32px;\n",
              "        padding: 0 0 0 0;\n",
              "        width: 32px;\n",
              "      }\n",
              "\n",
              "      .colab-df-generate:hover {\n",
              "        background-color: #E2EBFA;\n",
              "        box-shadow: 0px 1px 2px rgba(60, 64, 67, 0.3), 0px 1px 3px 1px rgba(60, 64, 67, 0.15);\n",
              "        fill: #174EA6;\n",
              "      }\n",
              "\n",
              "      [theme=dark] .colab-df-generate {\n",
              "        background-color: #3B4455;\n",
              "        fill: #D2E3FC;\n",
              "      }\n",
              "\n",
              "      [theme=dark] .colab-df-generate:hover {\n",
              "        background-color: #434B5C;\n",
              "        box-shadow: 0px 1px 3px 1px rgba(0, 0, 0, 0.15);\n",
              "        filter: drop-shadow(0px 1px 2px rgba(0, 0, 0, 0.3));\n",
              "        fill: #FFFFFF;\n",
              "      }\n",
              "    </style>\n",
              "    <button class=\"colab-df-generate\" onclick=\"generateWithVariable('trades')\"\n",
              "            title=\"Generate code using this dataframe.\"\n",
              "            style=\"display:none;\">\n",
              "\n",
              "  <svg xmlns=\"http://www.w3.org/2000/svg\" height=\"24px\"viewBox=\"0 0 24 24\"\n",
              "       width=\"24px\">\n",
              "    <path d=\"M7,19H8.4L18.45,9,17,7.55,7,17.6ZM5,21V16.75L18.45,3.32a2,2,0,0,1,2.83,0l1.4,1.43a1.91,1.91,0,0,1,.58,1.4,1.91,1.91,0,0,1-.58,1.4L9.25,21ZM18.45,9,17,7.55Zm-12,3A5.31,5.31,0,0,0,4.9,8.1,5.31,5.31,0,0,0,1,6.5,5.31,5.31,0,0,0,4.9,4.9,5.31,5.31,0,0,0,6.5,1,5.31,5.31,0,0,0,8.1,4.9,5.31,5.31,0,0,0,12,6.5,5.46,5.46,0,0,0,6.5,12Z\"/>\n",
              "  </svg>\n",
              "    </button>\n",
              "    <script>\n",
              "      (() => {\n",
              "      const buttonEl =\n",
              "        document.querySelector('#id_f69286ff-dc6b-4595-97a7-2d53719f1515 button.colab-df-generate');\n",
              "      buttonEl.style.display =\n",
              "        google.colab.kernel.accessAllowed ? 'block' : 'none';\n",
              "\n",
              "      buttonEl.onclick = () => {\n",
              "        google.colab.notebook.generateWithVariable('trades');\n",
              "      }\n",
              "      })();\n",
              "    </script>\n",
              "  </div>\n",
              "\n",
              "    </div>\n",
              "  </div>\n"
            ],
            "application/vnd.google.colaboratory.intrinsic+json": {
              "type": "dataframe",
              "variable_name": "trades",
              "summary": "{\n  \"name\": \"trades\",\n  \"rows\": 3,\n  \"fields\": [\n    {\n      \"column\": \"entry_dt\",\n      \"properties\": {\n        \"dtype\": \"date\",\n        \"min\": \"2022-11-07 00:00:00\",\n        \"max\": \"2024-02-02 00:00:00\",\n        \"num_unique_values\": 3,\n        \"samples\": [\n          \"2022-11-07 00:00:00\",\n          \"2023-01-30 00:00:00\",\n          \"2024-02-02 00:00:00\"\n        ],\n        \"semantic_type\": \"\",\n        \"description\": \"\"\n      }\n    },\n    {\n      \"column\": \"entry_price\",\n      \"properties\": {\n        \"dtype\": \"number\",\n        \"std\": 249.33092117918085,\n        \"min\": 1077.2322998046875,\n        \"max\": 1533.75,\n        \"num_unique_values\": 3,\n        \"samples\": [\n          1131.734375,\n          1077.2322998046875,\n          1533.75\n        ],\n        \"semantic_type\": \"\",\n        \"description\": \"\"\n      }\n    },\n    {\n      \"column\": \"exit_dt\",\n      \"properties\": {\n        \"dtype\": \"date\",\n        \"min\": \"2022-12-05 00:00:00\",\n        \"max\": \"2024-04-03 00:00:00\",\n        \"num_unique_values\": 3,\n        \"samples\": [\n          \"2022-12-05 00:00:00\",\n          \"2023-04-20 00:00:00\",\n          \"2024-04-03 00:00:00\"\n        ],\n        \"semantic_type\": \"\",\n        \"description\": \"\"\n      }\n    },\n    {\n      \"column\": \"exit_price\",\n      \"properties\": {\n        \"dtype\": \"number\",\n        \"std\": 230.27020585159542,\n        \"min\": 1113.97900390625,\n        \"max\": 1542.6500244140625,\n        \"num_unique_values\": 3,\n        \"samples\": [\n          1182.527099609375,\n          1113.97900390625,\n          1542.6500244140625\n        ],\n        \"semantic_type\": \"\",\n        \"description\": \"\"\n      }\n    },\n    {\n      \"column\": \"rets\",\n      \"properties\": {\n        \"dtype\": \"number\",\n        \"std\": 0.0201843083783637,\n        \"min\": 1.0058027869040342,\n        \"max\": 1.0448804293051317,\n        \"num_unique_values\": 3,\n        \"samples\": [\n          1.0448804293051317,\n          1.0341121447140278,\n          1.0058027869040342\n        ],\n        \"semantic_type\": \"\",\n        \"description\": \"\"\n      }\n    },\n    {\n      \"column\": \"profit_loss\",\n      \"properties\": {\n        \"dtype\": \"number\",\n        \"std\": 21.32184557122279,\n        \"min\": 8.900024414062516,\n        \"max\": 50.79272460937491,\n        \"num_unique_values\": 3,\n        \"samples\": [\n          50.79272460937491,\n          36.74670410156247,\n          8.900024414062516\n        ],\n        \"semantic_type\": \"\",\n        \"description\": \"\"\n      }\n    },\n    {\n      \"column\": \"cum_amt\",\n      \"properties\": {\n        \"dtype\": \"number\",\n        \"std\": 24.197639420261194,\n        \"min\": 1182.527099609375,\n        \"max\": 1228.173828125,\n        \"num_unique_values\": 3,\n        \"samples\": [\n          1182.527099609375,\n          1219.2738037109375,\n          1228.173828125\n        ],\n        \"semantic_type\": \"\",\n        \"description\": \"\"\n      }\n    },\n    {\n      \"column\": \"cum_rets\",\n      \"properties\": {\n        \"dtype\": \"number\",\n        \"std\": 0.022606997318378338,\n        \"min\": 1.0448804293051317,\n        \"max\": 1.0867935895758283,\n        \"num_unique_values\": 3,\n        \"samples\": [\n          1.0448804293051317,\n          1.0805235417184438,\n          1.0867935895758283\n        ],\n        \"semantic_type\": \"\",\n        \"description\": \"\"\n      }\n    }\n  ]\n}"
            }
          },
          "metadata": {},
          "execution_count": 174
        }
      ]
    },
    {
      "cell_type": "code",
      "source": [
        "perf, rm, dd, mdd = perf_metrics(trades)"
      ],
      "metadata": {
        "id": "1TNukBgtXEkV"
      },
      "execution_count": null,
      "outputs": []
    },
    {
      "cell_type": "code",
      "source": [
        "perf"
      ],
      "metadata": {
        "id": "WoMTO-UIXEIp"
      },
      "execution_count": null,
      "outputs": []
    },
    {
      "cell_type": "code",
      "source": [
        "mdd"
      ],
      "metadata": {
        "id": "l_Rp5AiNwc54"
      },
      "execution_count": null,
      "outputs": []
    },
    {
      "cell_type": "markdown",
      "source": [
        "**STEP 5: FINAL STEP**\n",
        "*   Save data, files, script and model\n",
        "*   \n",
        "\n"
      ],
      "metadata": {
        "id": "vvvdLgHI_7ix"
      }
    }
  ]
}